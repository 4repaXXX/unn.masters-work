{
 "cells": [
  {
   "cell_type": "code",
   "execution_count": 100,
   "id": "f18df133-6580-4b11-95f2-a4d152357500",
   "metadata": {
    "editable": true,
    "slideshow": {
     "slide_type": ""
    },
    "tags": []
   },
   "outputs": [],
   "source": [
    "import numpy as np\n",
    "import cv2\n",
    "import os\n",
    "from sklearn import preprocessing\n",
    "from sklearn.model_selection import train_test_split, GridSearchCV\n",
    "import matplotlib.pyplot as plt"
   ]
  },
  {
   "cell_type": "code",
   "execution_count": 104,
   "id": "caf64f82-a114-4f7c-9ec9-c4e7c04aadce",
   "metadata": {},
   "outputs": [],
   "source": [
    "def show_images(image):\n",
    "    \"\"\"\n",
    "    image - image to be shown\n",
    "    \"\"\"\n",
    "\n",
    "    fig, axes = plt.subplots(2, 4, figsize=(10, 6))\n",
    "\n",
    "    for i, ax in enumerate(axes.flatten()):\n",
    "        ax.imshow(image)\n",
    "        ax.axis('off') \n",
    "\n",
    "    plt.tight_layout()\n",
    "\n",
    "    # Show the plot\n",
    "    plt.show()"
   ]
  },
  {
   "cell_type": "code",
   "execution_count": 41,
   "id": "e32861de-56b5-41f7-af0a-8dedaac2e6e6",
   "metadata": {
    "tags": []
   },
   "outputs": [],
   "source": [
    "def ela(imagePath, scale=10, quality=90):\n",
    "    \"\"\"\n",
    "    Performs Error Level Analysis (ELA) on an image.\n",
    "    imagePath (str) - the path to the image file.\n",
    "    scale (int) - the scale factor for resizing the image. Default is 10.\n",
    "\n",
    "    Returns:\n",
    "        elaImage (np.array) - the ELA image.\n",
    "    \"\"\"\n",
    "    # Load the image\n",
    "    image = cv2.imread(imagePath)\n",
    "\n",
    "    # Resize the image\n",
    "    resizedImage = cv2.resize(image, (scale, scale))\n",
    "\n",
    "    # Convert the image to JPEG\n",
    "    cv2.imwrite(\"temp.jpg\", resizedImage, [cv2.IMWRITE_JPEG_QUALITY, quality])\n",
    "\n",
    "    # Load the JPEG image and compute the ELA image\n",
    "    elaImage = cv2.imread(\"temp.jpg\")\n",
    "    elaImage = cv2.absdiff(resizedImage, elaImage)\n",
    "    elaImage = cv2.cvtColor(elaImage, cv2.COLOR_BGR2GRAY)\n",
    "\n",
    "    return elaImage"
   ]
  },
  {
   "cell_type": "markdown",
   "id": "32d37c89-2831-429e-851f-012882b21c54",
   "metadata": {},
   "source": [
    "#### RPA"
   ]
  },
  {
   "cell_type": "code",
   "execution_count": 43,
   "id": "eae4b670-a298-40ac-a8ee-fc36d98b56b6",
   "metadata": {
    "tags": []
   },
   "outputs": [],
   "source": [
    "def rpa(elaImage, threshold=5):\n",
    "    \"\"\"\n",
    "    Residual Pixel Analysis (RPA) on an ELA image.\n",
    "\n",
    "    Args:\n",
    "        elaImage (np.array) - ELA image.\n",
    "\n",
    "    Returns:\n",
    "        tampered (bool) - True if the image is tampered, False otherwise.\n",
    "    \"\"\"\n",
    "    # Calculate the standard deviation of the ELA image\n",
    "    stddev = np.std(elaImage)\n",
    "\n",
    "    # If the standard deviation is greater than the threshold, the image is tampered\n",
    "    tampered = stddev > threshold\n",
    "\n",
    "    return tampered"
   ]
  },
  {
   "cell_type": "code",
   "execution_count": 112,
   "id": "b5044077-5561-4ffc-a100-bdbae21404b9",
   "metadata": {
    "tags": []
   },
   "outputs": [],
   "source": [
    "def detectFraud(imagePath, scale, quality, threshold):\n",
    "    \"\"\"\n",
    "    Detects identity card fraud using ELA and RPA.\n",
    "\n",
    "    Args:\n",
    "        imagePath (str) -  path to the image file.\n",
    "\n",
    "    Returns:\n",
    "        result (str) - the result of the fraud detection, either \"Genuine\" or \"Tampered\".\n",
    "    \"\"\"\n",
    "    \n",
    "    # Perform ELA on the image\n",
    "    elaImage = ela(imagePath, scale, quality)\n",
    "    # show_images(elaImage)\n",
    "\n",
    "    # Perform RPA on the ELA image\n",
    "    tampered = rpa(elaImage, threshold)\n",
    "\n",
    "    # Determine the result\n",
    "    if tampered:\n",
    "        result = 1\n",
    "    else:\n",
    "        result = 0\n",
    "\n",
    "    return result"
   ]
  },
  {
   "cell_type": "code",
   "execution_count": 47,
   "id": "1f869502-d8ac-4fee-a770-830c91bb8ed5",
   "metadata": {
    "tags": []
   },
   "outputs": [],
   "source": [
    "# Define source paths\n",
    "authentic = 'data/casia/au/'\n",
    "tampered = 'data/casia/tp/'"
   ]
  },
  {
   "cell_type": "code",
   "execution_count": 122,
   "id": "d082922b-e208-4d99-97fe-1f5355141ec2",
   "metadata": {
    "tags": []
   },
   "outputs": [],
   "source": [
    "# Mix photos\n",
    "X = list()\n",
    "Y = list()\n",
    "for files in os.listdir(authentic):\n",
    "    X.append(authentic+files)\n",
    "    Y.append('Au')\n",
    "for files in os.listdir(tampered):\n",
    "    X.append(tampered+files)\n",
    "    Y.append('Tp')\n",
    "    \n",
    "le = preprocessing.LabelEncoder()\n",
    "y = le.fit_transform(Y)"
   ]
  },
  {
   "cell_type": "code",
   "execution_count": 124,
   "id": "e2b81c19-0be8-4712-bdc9-b48025efa3d9",
   "metadata": {
    "tags": []
   },
   "outputs": [],
   "source": [
    "xTrain, xTest, yTrain, yTest = train_test_split(X,y,train_size = 0.8, random_state=40,shuffle=True, stratify=y)"
   ]
  },
  {
   "cell_type": "code",
   "execution_count": 150,
   "id": "9a96a481-888c-493e-af46-6d16d5706b96",
   "metadata": {
    "tags": []
   },
   "outputs": [
    {
     "name": "stdout",
     "output_type": "stream",
     "text": [
      "0.5 0.4 10 90 3\n",
      "0.9411764705882353 0.9 10 90 5\n",
      "1.0 1.0 10 90 7\n",
      "0.8 0.7 20 90 3\n",
      "0.9411764705882353 0.9 20 90 5\n",
      "0.9473684210526316 0.9 20 90 7\n",
      "0.9411764705882353 0.9 30 90 3\n",
      "0.9411764705882353 0.9 30 90 5\n",
      "1.0 1.0 30 90 7\n"
     ]
    }
   ],
   "source": [
    "tp,fp,fn = 0,0,0\n",
    "for scale in [10,20,30]:\n",
    "    for quality in [90]:\n",
    "        for threshold in [3,5,7]:\n",
    "            tp,fp,fn, score = 0,0,0,0\n",
    "            for i in xTrain[:10]:\n",
    "                cnt = detectFraud(i, scale, quality, threshold)\n",
    "                if cnt == 0 and yTrain[xTrain.index(i)] == 0:\n",
    "                    tp += 1 \n",
    "                elif cnt == 0 and yTrain[xTrain.index(i)] == 1:\n",
    "                    fp += 1\n",
    "                elif cnt == 1 and yTrain[xTrain.index(i)] == 0:\n",
    "                    fn += 1\n",
    "                        \n",
    "                if cnt == yTrain[xTrain.index(i)]:\n",
    "                    score += 1\n",
    "            \n",
    "            precision = tp/(tp+fp)\n",
    "            recall = tp/(tp+fn)\n",
    "            F1 = 2*precision*recall/(precision+recall)\n",
    "            print(F1,score/10, scale, quality, threshold)"
   ]
  },
  {
   "cell_type": "code",
   "execution_count": 148,
   "id": "31b09e54-ccd4-482f-9110-f6d04ccbf54b",
   "metadata": {
    "tags": []
   },
   "outputs": [
    {
     "name": "stdout",
     "output_type": "stream",
     "text": [
      "0.72 0.6 10 90 7\n"
     ]
    }
   ],
   "source": [
    "scale, quality, threshold = 10,90,7\n",
    "tp,fp,fn, score = 0,0,0,0\n",
    "for i in xTest[:20]:\n",
    "    try:\n",
    "        cnt = detectFraud(i, scale, quality, threshold)\n",
    "        if cnt == 0 and yTest[xTest.index(i)] == 0:\n",
    "            tp += 1 \n",
    "        elif cnt == 0 and yTest[xTest.index(i)] == 1:\n",
    "            fp += 1\n",
    "        elif cnt == 1 and yTest[xTest.index(i)] == 0:\n",
    "            fn += 1\n",
    "\n",
    "        if cnt == yTest[xTest.index(i)]:\n",
    "            score += 1\n",
    "    except:\n",
    "        pass\n",
    "precision = tp/(tp+fp)\n",
    "recall = tp/(tp+fn)\n",
    "F1 = 2*precision*recall/(precision+recall)\n",
    "print(F1,score/20, scale, quality, threshold)"
   ]
  }
 ],
 "metadata": {
  "kernelspec": {
   "display_name": "Python 3 (ipykernel)",
   "language": "python",
   "name": "python3"
  },
  "language_info": {
   "codemirror_mode": {
    "name": "ipython",
    "version": 3
   },
   "file_extension": ".py",
   "mimetype": "text/x-python",
   "name": "python",
   "nbconvert_exporter": "python",
   "pygments_lexer": "ipython3",
   "version": "3.12.4"
  }
 },
 "nbformat": 4,
 "nbformat_minor": 5
}
