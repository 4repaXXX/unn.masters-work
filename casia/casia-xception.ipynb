{
 "cells": [
  {
   "cell_type": "code",
   "execution_count": 58,
   "id": "ad71f3ee-0f0b-45e6-a754-ed893d8deaaa",
   "metadata": {
    "tags": []
   },
   "outputs": [],
   "source": [
    "import os\n",
    "import numpy as np\n",
    "from keras.models import Model\n",
    "import matplotlib.pyplot as plt\n",
    "from tensorflow.keras.preprocessing.image import ImageDataGenerator\n",
    "from tensorflow.keras.applications import ResNet50\n",
    "from tensorflow.keras import layers\n",
    "from tensorflow.keras import models\n",
    "from tensorflow.keras import optimizers\n",
    "from sklearn.model_selection import train_test_split\n",
    "from tensorflow.keras.preprocessing.image import ImageDataGenerator\n",
    "from keras.preprocessing import image\n",
    "from keras.applications.vgg16 import VGG16, preprocess_input\n",
    "from keras.layers import Dense, GlobalAveragePooling2D\n",
    "from PIL import Image, ImageChops, ImageEnhance\n",
    "import cv2\n",
    "from keras.utils import to_categorical\n",
    "from keras.callbacks import EarlyStopping\n",
    "from keras.layers import Dense, Dropout, Flatten, Conv2D, MaxPool2D, BatchNormalization\n",
    "from sklearn.model_selection import train_test_split\n",
    "from scipy import stats\n",
    "from keras.models import Sequential\n",
    "from keras.layers import BatchNormalization\n",
    "from tensorflow.keras.applications import Xception\n",
    "from sklearn.metrics import classification_report"
   ]
  },
  {
   "cell_type": "code",
   "execution_count": 2,
   "id": "5e8586be-9028-419e-ae40-cd04cbb00ab7",
   "metadata": {
    "tags": []
   },
   "outputs": [],
   "source": [
    "def convert_to_ela_image(path, quality):\n",
    "    \"\"\"\n",
    "    Performs Error Level Analysis (ELA) on an image.\n",
    "    path (str) - the path to the image file.\n",
    "    quality (int) - quality to which reducing the image\n",
    "\n",
    "    Returns:\n",
    "        elaImage (np.array) - the ELA image.\n",
    "    \"\"\"\n",
    "    \n",
    "    temp_filename = 'temp.jpg'\n",
    "    image = Image.open(path).convert('RGB')\n",
    "    image.save(temp_filename, 'JPEG', quality = quality)\n",
    "    temp_image = Image.open(temp_filename)\n",
    "    ela_image = ImageChops.difference(image, temp_image)\n",
    "    extrema = ela_image.getextrema()\n",
    "    max_diff = max([ex[1] for ex in extrema])\n",
    "    if max_diff == 0:\n",
    "        max_diff = 1\n",
    "    scale = 255.0 / max_diff\n",
    "    ela_image = ImageEnhance.Brightness(ela_image).enhance(scale)\n",
    "    return ela_image"
   ]
  },
  {
   "cell_type": "code",
   "execution_count": 15,
   "id": "9a019c5a-4c4e-4fda-9d2f-d987271aea8a",
   "metadata": {
    "tags": []
   },
   "outputs": [],
   "source": [
    "def build_xception_model(num_classes=2):\n",
    "    base_model = Xception(weights='imagenet', include_top=False, input_shape=(299, 299, 3))\n",
    "\n",
    "    for layer in base_model.layers:\n",
    "        layer.trainable = False\n",
    "\n",
    "    model = Sequential()\n",
    "    model.add(base_model)\n",
    "    model.add(Flatten())\n",
    "    model.add(BatchNormalization())\n",
    "    model.add(Dense(256, activation='relu'))\n",
    "    model.add(Dropout(0.5))\n",
    "    model.add(Dense(num_classes, activation='softmax'))\n",
    "\n",
    "    return model"
   ]
  },
  {
   "cell_type": "code",
   "execution_count": 4,
   "id": "5cc73ebe-f3d4-4032-a7eb-ef315b16f428",
   "metadata": {
    "tags": []
   },
   "outputs": [],
   "source": [
    "def prepare_image(image_path):\n",
    "    return np.array(convert_to_ela_image(image_path, 90).resize(image_size)).flatten() / 255.0"
   ]
  },
  {
   "cell_type": "code",
   "execution_count": 48,
   "id": "5879aaeb-fb2b-49bb-9db3-5942edac906c",
   "metadata": {
    "tags": []
   },
   "outputs": [],
   "source": [
    "image_size = (299, 299)\n",
    "X = []\n",
    "y = []"
   ]
  },
  {
   "cell_type": "code",
   "execution_count": 6,
   "id": "49f3fe4c-4597-4338-b4c6-1cd4448deeaf",
   "metadata": {
    "tags": []
   },
   "outputs": [],
   "source": [
    "# Define source paths\n",
    "authentic = 'data/casia/au/'\n",
    "tampered = 'data/casia/tp/'"
   ]
  },
  {
   "cell_type": "code",
   "execution_count": 49,
   "id": "9a120f5f-dd07-411c-9440-55240cbef640",
   "metadata": {
    "tags": []
   },
   "outputs": [
    {
     "name": "stdout",
     "output_type": "stream",
     "text": [
      "37 37\n"
     ]
    }
   ],
   "source": [
    "for root, dirs, files in os.walk(authentic):\n",
    "  for filename in files:\n",
    "    file_path = os.path.join(root, filename)\n",
    "    if filename.lower().endswith(('jpg', 'png')):\n",
    "      X.append(prepare_image(file_path))\n",
    "      y.append(1)\n",
    "    if len(X)==3000:\n",
    "        break\n",
    "\n",
    "# random.shuffle(X)\n",
    "\n",
    "print(len(X), len(y))"
   ]
  },
  {
   "cell_type": "code",
   "execution_count": 50,
   "id": "cac2e21f-2341-4692-ac41-77fb5c8e057d",
   "metadata": {
    "tags": []
   },
   "outputs": [],
   "source": [
    "count = 0\n",
    "for root, dirs, files in os.walk(tampered):\n",
    "    for filename in files:\n",
    "        file_path = os.path.join(root, filename)\n",
    "        if filename.lower().endswith(('jpg', 'png', 'tif', 'tiff')):\n",
    "            X.append(prepare_image(file_path))\n",
    "            y.append(0)\n",
    "        if len(X)==4500:\n",
    "            break"
   ]
  },
  {
   "cell_type": "code",
   "execution_count": 51,
   "id": "15978451-8068-4b39-b983-52e0ea9bd25f",
   "metadata": {
    "tags": []
   },
   "outputs": [],
   "source": [
    "X = np.array(X)\n",
    "y = to_categorical(y, 2)\n",
    "y = y.reshape(y.shape[0], 2)\n",
    "X = X.reshape(-1, 299, 299, 3)"
   ]
  },
  {
   "cell_type": "code",
   "execution_count": 53,
   "id": "36875078-130c-42f7-80ad-cf4f8fb93662",
   "metadata": {
    "tags": []
   },
   "outputs": [
    {
     "name": "stdout",
     "output_type": "stream",
     "text": [
      "58 58\n",
      "15 15\n"
     ]
    }
   ],
   "source": [
    "X_train, X_val, Y_train, Y_val = train_test_split(X, y, test_size = 0.2, random_state=5)\n",
    "X = X.reshape(-1,1,1,1)\n",
    "print(len(X_train), len(Y_train))\n",
    "print(len(X_val), len(Y_val))"
   ]
  },
  {
   "cell_type": "code",
   "execution_count": 12,
   "id": "384aad0e-b08c-412f-bd89-d11f53ae6b1a",
   "metadata": {
    "tags": []
   },
   "outputs": [
    {
     "data": {
      "text/plain": [
       "<keras.callbacks.EarlyStopping at 0x73f33e865350>"
      ]
     },
     "execution_count": 12,
     "metadata": {},
     "output_type": "execute_result"
    }
   ],
   "source": [
    "early_stopping = EarlyStopping(monitor='val_accuracy', patience=5,mode='max', restore_best_weights=True)\n",
    "early_stopping"
   ]
  },
  {
   "cell_type": "code",
   "execution_count": 54,
   "id": "4915b69f-c540-4927-b41f-1e6e2b3bb29a",
   "metadata": {
    "tags": []
   },
   "outputs": [
    {
     "name": "stdout",
     "output_type": "stream",
     "text": [
      "Model: \"sequential_2\"\n",
      "_________________________________________________________________\n",
      " Layer (type)                Output Shape              Param #   \n",
      "=================================================================\n",
      " xception (Functional)       (None, 10, 10, 2048)      20861480  \n",
      "                                                                 \n",
      " flatten_1 (Flatten)         (None, 204800)            0         \n",
      "                                                                 \n",
      " batch_normalization_14 (Bat  (None, 204800)           819200    \n",
      " chNormalization)                                                \n",
      "                                                                 \n",
      " dense_4 (Dense)             (None, 256)               52429056  \n",
      "                                                                 \n",
      " dropout_2 (Dropout)         (None, 256)               0         \n",
      "                                                                 \n",
      " dense_5 (Dense)             (None, 2)                 514       \n",
      "                                                                 \n",
      "=================================================================\n",
      "Total params: 74,110,250\n",
      "Trainable params: 52,839,170\n",
      "Non-trainable params: 21,271,080\n",
      "_________________________________________________________________\n"
     ]
    }
   ],
   "source": [
    "model = build_xception_model()\n",
    "epochs = 30\n",
    "batch_size = 32\n",
    "model.compile(optimizer = 'Adam', loss = 'binary_crossentropy', metrics = ['accuracy'])\n",
    "model.summary()"
   ]
  },
  {
   "cell_type": "code",
   "execution_count": 55,
   "id": "50f79aa3-3fd6-468f-ac4e-4cb34392f4a3",
   "metadata": {
    "tags": []
   },
   "outputs": [
    {
     "name": "stdout",
     "output_type": "stream",
     "text": [
      "Epoch 1/30\n",
      "2/2 [==============================] - 5s 2s/step - loss: 3.6082 - accuracy: 0.5862 - val_loss: 2.7422 - val_accuracy: 0.9333\n",
      "Epoch 2/30\n",
      "2/2 [==============================] - 3s 1s/step - loss: 2.6168 - accuracy: 0.9655 - val_loss: 3.0525 - val_accuracy: 0.9333\n",
      "Epoch 3/30\n",
      "2/2 [==============================] - 3s 1s/step - loss: 1.4188 - accuracy: 0.9655 - val_loss: 3.2747 - val_accuracy: 0.9333\n",
      "Epoch 4/30\n",
      "2/2 [==============================] - 3s 1s/step - loss: 1.0565 - accuracy: 1.0000 - val_loss: 3.1538 - val_accuracy: 0.9333\n",
      "Epoch 5/30\n",
      "2/2 [==============================] - 3s 1s/step - loss: 2.7425e-06 - accuracy: 1.0000 - val_loss: 3.0667 - val_accuracy: 0.9333\n",
      "Epoch 6/30\n",
      "2/2 [==============================] - 3s 1s/step - loss: 0.7412 - accuracy: 0.9828 - val_loss: 2.9368 - val_accuracy: 0.9333\n"
     ]
    },
    {
     "data": {
      "text/plain": [
       "<keras.callbacks.History at 0x73f304205c10>"
      ]
     },
     "execution_count": 55,
     "metadata": {},
     "output_type": "execute_result"
    }
   ],
   "source": [
    "hist = model.fit(\n",
    "    X_train,\n",
    "    Y_train,\n",
    "    batch_size = batch_size,\n",
    "    epochs = epochs,\n",
    "    validation_data = (X_val, Y_val),\n",
    "    callbacks = [early_stopping])\n",
    "hist"
   ]
  },
  {
   "cell_type": "code",
   "execution_count": 56,
   "id": "b3b7f7f8-c624-4e9b-8fd8-61d42a4e5231",
   "metadata": {
    "tags": []
   },
   "outputs": [
    {
     "name": "stdout",
     "output_type": "stream",
     "text": [
      "1/1 [==============================] - 0s 499ms/step - loss: 2.7422 - accuracy: 0.9333\n"
     ]
    },
    {
     "data": {
      "text/plain": [
       "[2.742173194885254, 0.9333333373069763]"
      ]
     },
     "execution_count": 56,
     "metadata": {},
     "output_type": "execute_result"
    }
   ],
   "source": [
    "model.evaluate(X_val,Y_val)"
   ]
  },
  {
   "cell_type": "code",
   "execution_count": 59,
   "id": "665e5e15-3fea-48a4-8ae3-eee0347016d0",
   "metadata": {
    "tags": []
   },
   "outputs": [
    {
     "name": "stdout",
     "output_type": "stream",
     "text": [
      "1/1 [==============================] - 1s 510ms/step\n",
      "              precision    recall  f1-score   support\n",
      "\n",
      "     Class 0       0.90      1.00      0.95         9\n",
      "     Class 1       1.00      0.83      0.91         6\n",
      "\n",
      "    accuracy                           0.93        15\n",
      "   macro avg       0.95      0.92      0.93        15\n",
      "weighted avg       0.94      0.93      0.93        15\n",
      "\n"
     ]
    }
   ],
   "source": [
    "y_test_labels = np.argmax(Y_val, axis=1)\n",
    "y_pred_probs = model.predict(X_val)\n",
    "y_pred_labels = np.argmax(y_pred_probs, axis=1)\n",
    "print(classification_report(y_test_labels, y_pred_labels, target_names=['Class 0', 'Class 1']))"
   ]
  }
 ],
 "metadata": {
  "kernelspec": {
   "display_name": "Python 3 (ipykernel)",
   "language": "python",
   "name": "python3"
  },
  "language_info": {
   "codemirror_mode": {
    "name": "ipython",
    "version": 3
   },
   "file_extension": ".py",
   "mimetype": "text/x-python",
   "name": "python",
   "nbconvert_exporter": "python",
   "pygments_lexer": "ipython3",
   "version": "3.11.5"
  }
 },
 "nbformat": 4,
 "nbformat_minor": 5
}
