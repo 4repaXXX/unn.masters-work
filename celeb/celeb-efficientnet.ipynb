{
 "cells": [
  {
   "cell_type": "markdown",
   "id": "7ee29b9b-f710-4f18-9bbf-9f2104b231ed",
   "metadata": {},
   "source": [
    "## EfficientNet"
   ]
  },
  {
   "cell_type": "code",
   "execution_count": 31,
   "id": "6958084b-cc0b-471c-b865-c2a1fae1bed6",
   "metadata": {
    "tags": []
   },
   "outputs": [],
   "source": [
    "#!c1.4\n",
    "import os\n",
    "import zipfile\n",
    "\n",
    "import cv2\n",
    "import matplotlib.pyplot as plt\n",
    "import numpy as np\n",
    "import tensorflow as tf\n",
    "from keras.applications.vgg16 import VGG16, preprocess_input\n",
    "from keras.callbacks import EarlyStopping\n",
    "from keras.layers import (\n",
    "    BatchNormalization,\n",
    "    Conv2D,\n",
    "    Dense,\n",
    "    Dropout,\n",
    "    Flatten,\n",
    "    GlobalAveragePooling2D,\n",
    "    MaxPool2D,\n",
    ")\n",
    "from keras.models import Model, Sequential\n",
    "from keras.preprocessing import image\n",
    "from keras.utils import to_categorical\n",
    "from PIL import Image, ImageChops, ImageEnhance\n",
    "from scipy import stats\n",
    "from sklearn.metrics import classification_report\n",
    "from sklearn.model_selection import train_test_split\n",
    "from tensorflow.keras import layers, models, optimizers\n",
    "from tensorflow.keras.applications import EfficientNetB0\n",
    "from tensorflow.keras.callbacks import EarlyStopping, ModelCheckpoint, ReduceLROnPlateau\n",
    "from tensorflow.keras.optimizers import Adam\n",
    "from tensorflow.keras.preprocessing.image import ImageDataGenerator\n",
    "from tensorflow.keras.metrics import Precision, Recall, AUC\n",
    "\n",
    "from data_prepare.dataset_tools import extract_zip_with_cleanup, prepare_and_save_data, create_data_generators\n",
    "from data_prepare.f1score import F1Score\n",
    "\n",
    "import pandas as pd\n",
    "import matplotlib.pyplot as plt\n",
    "\n",
    "from data_prepare.dataset_tools import extract_zip_with_cleanup, prepare_and_save_data, create_data_generators\n",
    "from data_prepare.plots import plot_history, confusion_matrix_plot, roc_plot, precision_recall_plot"
   ]
  },
  {
   "cell_type": "markdown",
   "id": "653da39e-23b4-4790-9268-0ed4cee0e297",
   "metadata": {},
   "source": [
    "### Подготовка результатов"
   ]
  },
  {
   "cell_type": "code",
   "execution_count": 32,
   "id": "c97329d6-d605-4b50-ba9a-e67bfbd82c2f",
   "metadata": {},
   "outputs": [],
   "source": [
    "image_archive_path = \"data/celeb/v1/\"\n",
    "fake_images_path, real_images_path = extract_zip_with_cleanup(image_archive_path)"
   ]
  },
  {
   "cell_type": "code",
   "execution_count": 33,
   "id": "d7bcf2fa-7b14-46e3-aaee-811052a39d72",
   "metadata": {},
   "outputs": [],
   "source": [
    "train_dir, val_dir, test_dir = prepare_and_save_data(real_images_path, fake_images_path, output_dir=\"data/dataset/net\", target_size=(224,224))"
   ]
  },
  {
   "cell_type": "code",
   "execution_count": 34,
   "id": "63fe5a30-e057-4244-915a-0dc786aedae3",
   "metadata": {},
   "outputs": [
    {
     "name": "stdout",
     "output_type": "stream",
     "text": [
      "Found 9075 images belonging to 2 classes.\n",
      "Found 1944 images belonging to 2 classes.\n",
      "Found 1946 images belonging to 2 classes.\n",
      "\n",
      "Class indices: {'fake': 0, 'real': 1}\n",
      "Train samples: 9075\n",
      "Val samples: 1944\n",
      "Test samples: 1946\n"
     ]
    }
   ],
   "source": [
    "train_gen, val_gen, test_gen = create_data_generators(train_dir, val_dir, test_dir, target_size=(224,224))"
   ]
  },
  {
   "cell_type": "markdown",
   "id": "b224bebd-d2f0-4ff3-8ddb-e8dc81a378e7",
   "metadata": {},
   "source": [
    "### Обучение модели"
   ]
  },
  {
   "cell_type": "code",
   "execution_count": 10,
   "id": "da814cc0-ecef-409a-a257-629be84772f4",
   "metadata": {
    "tags": []
   },
   "outputs": [],
   "source": [
    "def build_efficientnet_model(input_shape=(224, 224, 3)):\n",
    "    base_model = EfficientNetB0(\n",
    "        weights='imagenet', \n",
    "        include_top=False, \n",
    "        input_shape=input_shape\n",
    "    )\n",
    "    base_model.trainable = False\n",
    "    \n",
    "    model = Sequential(\n",
    "        [\n",
    "            base_model,\n",
    "            GlobalAveragePooling2D(),\n",
    "            Dropout(0.5),\n",
    "            Dense(1, activation=\"sigmoid\"),\n",
    "        ]\n",
    "    )\n",
    "    \n",
    "    model.compile(\n",
    "        optimizer=Adam(learning_rate=1e-3),\n",
    "        loss='binary_crossentropy',\n",
    "        metrics=[\n",
    "            tf.keras.metrics.BinaryAccuracy(name='accuracy'),  # Явное указание\n",
    "            tf.keras.metrics.Precision(name=\"precision\"),\n",
    "            tf.keras.metrics.Recall(name=\"recall\"),\n",
    "            tf.keras.metrics.AUC(name=\"auc\")\n",
    "        ]\n",
    "    )\n",
    "    \n",
    "    return model, base_model"
   ]
  },
  {
   "cell_type": "code",
   "execution_count": null,
   "id": "16a9f6f3-5535-4091-b304-f1c15bfdf549",
   "metadata": {
    "execution": {
     "iopub.execute_input": "2025-04-29T21:08:21.646234Z",
     "iopub.status.busy": "2025-04-29T21:08:21.644190Z",
     "iopub.status.idle": "2025-04-29T21:08:21.709711Z",
     "shell.execute_reply": "2025-04-29T21:08:21.708833Z",
     "shell.execute_reply.started": "2025-04-29T21:08:21.646194Z"
    },
    "tags": []
   },
   "outputs": [],
   "source": [
    "def train_model(train_generator, val_generator):\n",
    "    \"\"\"\n",
    "    Обучает модель на данных, загруженных в память\n",
    "\n",
    "    Parameters:\n",
    "        X_train (np.array): Тренировочные изображения\n",
    "        X_test (np.array): Тестовые изображения\n",
    "        y_train (np.array): Тренировочные метки\n",
    "        y_test (np.array): Тестовые метки\n",
    "\n",
    "    Returns:\n",
    "        tuple: (model, history) - обученная модель и история обучения\n",
    "    \"\"\"\n",
    "    model = build_efficientnet_model()\n",
    "\n",
    "    history = model.fit(\n",
    "        train_generator,\n",
    "        batch_size=32,\n",
    "        epochs=10,\n",
    "        validation_data=val_generator,\n",
    "        callbacks=[\n",
    "            ModelCheckpoint(\"best_model.h5\", monitor=\"val_pr_auc\", save_best_only=True),\n",
    "            EarlyStopping(monitor=\"val_loss\", patience=3),\n",
    "        ],\n",
    "    )\n",
    "\n",
    "    return model, history"
   ]
  },
  {
   "cell_type": "code",
   "execution_count": 16,
   "id": "8a518906-acd4-493e-a05b-a2c8444c93e1",
   "metadata": {
    "execution": {
     "iopub.execute_input": "2025-04-30T05:12:11.945438Z",
     "iopub.status.busy": "2025-04-30T05:12:11.944375Z",
     "iopub.status.idle": "2025-04-30T05:15:52.227871Z",
     "shell.execute_reply": "2025-04-30T05:15:52.226826Z",
     "shell.execute_reply.started": "2025-04-30T05:12:11.945376Z"
    },
    "tags": []
   },
   "outputs": [
    {
     "name": "stderr",
     "output_type": "stream",
     "text": [
      "2025-04-30 05:12:14.760649: I tensorflow/core/common_runtime/executor.cc:1197] [/device:CPU:0] (DEBUG INFO) Executor start aborting (this does not indicate an error and you can ignore this message): INVALID_ARGUMENT: You must feed a value for placeholder tensor 'Placeholder/_0' with dtype int32\n",
      "\t [[{{node Placeholder/_0}}]]\n"
     ]
    },
    {
     "name": "stdout",
     "output_type": "stream",
     "text": [
      "Epoch 1/10\n"
     ]
    },
    {
     "name": "stderr",
     "output_type": "stream",
     "text": [
      "2025-04-30 05:12:20.037376: E tensorflow/core/grappler/optimizers/meta_optimizer.cc:954] layout failed: INVALID_ARGUMENT: Size of values 0 does not match size of permutation 4 @ fanin shape insequential_3/efficientnetb0/block2b_drop/dropout/SelectV2-2-TransposeNHWCToNCHW-LayoutOptimizer\n"
     ]
    },
    {
     "name": "stdout",
     "output_type": "stream",
     "text": [
      "284/284 [==============================] - ETA: 0s - loss: 0.4569 - accuracy: 0.8340 - precision: 0.0526 - recall: 6.7159e-04 - auc: 0.5040"
     ]
    },
    {
     "name": "stderr",
     "output_type": "stream",
     "text": [
      "2025-04-30 05:12:49.774575: I tensorflow/core/common_runtime/executor.cc:1197] [/device:CPU:0] (DEBUG INFO) Executor start aborting (this does not indicate an error and you can ignore this message): INVALID_ARGUMENT: You must feed a value for placeholder tensor 'Placeholder/_0' with dtype int32\n",
      "\t [[{{node Placeholder/_0}}]]\n"
     ]
    },
    {
     "name": "stdout",
     "output_type": "stream",
     "text": [
      "WARNING:tensorflow:Can save best model only with val_pr_auc available, skipping.\n",
      "284/284 [==============================] - 43s 130ms/step - loss: 0.4569 - accuracy: 0.8340 - precision: 0.0526 - recall: 6.7159e-04 - auc: 0.5040 - val_loss: 0.4473 - val_accuracy: 0.8359 - val_precision: 0.0000e+00 - val_recall: 0.0000e+00 - val_auc: 0.4965\n",
      "Epoch 2/10\n",
      "284/284 [==============================] - ETA: 0s - loss: 0.4528 - accuracy: 0.8359 - precision: 0.0000e+00 - recall: 0.0000e+00 - auc: 0.5078WARNING:tensorflow:Can save best model only with val_pr_auc available, skipping.\n",
      "284/284 [==============================] - 34s 121ms/step - loss: 0.4528 - accuracy: 0.8359 - precision: 0.0000e+00 - recall: 0.0000e+00 - auc: 0.5078 - val_loss: 0.4478 - val_accuracy: 0.8359 - val_precision: 0.0000e+00 - val_recall: 0.0000e+00 - val_auc: 0.5267\n",
      "Epoch 3/10\n",
      "284/284 [==============================] - ETA: 0s - loss: 0.4545 - accuracy: 0.8359 - precision: 0.0000e+00 - recall: 0.0000e+00 - auc: 0.4891WARNING:tensorflow:Can save best model only with val_pr_auc available, skipping.\n",
      "284/284 [==============================] - 36s 127ms/step - loss: 0.4545 - accuracy: 0.8359 - precision: 0.0000e+00 - recall: 0.0000e+00 - auc: 0.4891 - val_loss: 0.4464 - val_accuracy: 0.8359 - val_precision: 0.0000e+00 - val_recall: 0.0000e+00 - val_auc: 0.5034\n",
      "Epoch 4/10\n",
      "284/284 [==============================] - ETA: 0s - loss: 0.4508 - accuracy: 0.8359 - precision: 0.0000e+00 - recall: 0.0000e+00 - auc: 0.5114WARNING:tensorflow:Can save best model only with val_pr_auc available, skipping.\n",
      "284/284 [==============================] - 35s 123ms/step - loss: 0.4508 - accuracy: 0.8359 - precision: 0.0000e+00 - recall: 0.0000e+00 - auc: 0.5114 - val_loss: 0.4522 - val_accuracy: 0.8359 - val_precision: 0.0000e+00 - val_recall: 0.0000e+00 - val_auc: 0.5015\n",
      "Epoch 5/10\n",
      "284/284 [==============================] - ETA: 0s - loss: 0.4521 - accuracy: 0.8359 - precision: 0.0000e+00 - recall: 0.0000e+00 - auc: 0.5042WARNING:tensorflow:Can save best model only with val_pr_auc available, skipping.\n",
      "284/284 [==============================] - 35s 122ms/step - loss: 0.4521 - accuracy: 0.8359 - precision: 0.0000e+00 - recall: 0.0000e+00 - auc: 0.5042 - val_loss: 0.4503 - val_accuracy: 0.8359 - val_precision: 0.0000e+00 - val_recall: 0.0000e+00 - val_auc: 0.5113\n",
      "Epoch 6/10\n",
      "284/284 [==============================] - ETA: 0s - loss: 0.4526 - accuracy: 0.8359 - precision: 0.0000e+00 - recall: 0.0000e+00 - auc: 0.5073WARNING:tensorflow:Can save best model only with val_pr_auc available, skipping.\n",
      "284/284 [==============================] - 34s 120ms/step - loss: 0.4526 - accuracy: 0.8359 - precision: 0.0000e+00 - recall: 0.0000e+00 - auc: 0.5073 - val_loss: 0.4495 - val_accuracy: 0.8359 - val_precision: 0.0000e+00 - val_recall: 0.0000e+00 - val_auc: 0.5363\n"
     ]
    }
   ],
   "source": [
    "trained_model, histories = train_model(train_gen, val_gen)"
   ]
  },
  {
   "cell_type": "code",
   "execution_count": 17,
   "id": "4592d76d-2b55-4db8-8083-385a7868aeae",
   "metadata": {
    "execution": {
     "iopub.execute_input": "2025-04-30T05:16:22.338455Z",
     "iopub.status.busy": "2025-04-30T05:16:22.337138Z",
     "iopub.status.idle": "2025-04-30T05:16:22.442751Z",
     "shell.execute_reply": "2025-04-30T05:16:22.441357Z",
     "shell.execute_reply.started": "2025-04-30T05:16:22.338404Z"
    },
    "tags": []
   },
   "outputs": [
    {
     "ename": "TypeError",
     "evalue": "Unable to serialize [2.0896919 2.1128857 2.1081853] to JSON. Unrecognized type <class 'tensorflow.python.framework.ops.EagerTensor'>.",
     "output_type": "error",
     "traceback": [
      "\u001b[0;31m---------------------------------------------------------------------------\u001b[0m",
      "\u001b[0;31mTypeError\u001b[0m                                 Traceback (most recent call last)",
      "\u001b[0;32m/tmp/ipykernel_12845/4277811527.py\u001b[0m in \u001b[0;36m<cell line: 1>\u001b[0;34m()\u001b[0m\n\u001b[0;32m----> 1\u001b[0;31m \u001b[0mtrained_model\u001b[0m\u001b[0;34m.\u001b[0m\u001b[0msave\u001b[0m\u001b[0;34m(\u001b[0m\u001b[0;34m\"efficient_deepfake_model.h5\"\u001b[0m\u001b[0;34m)\u001b[0m\u001b[0;34m\u001b[0m\u001b[0;34m\u001b[0m\u001b[0m\n\u001b[0m",
      "\u001b[0;32m/usr/local/lib/python3.10/dist-packages/keras/utils/traceback_utils.py\u001b[0m in \u001b[0;36merror_handler\u001b[0;34m(*args, **kwargs)\u001b[0m\n\u001b[1;32m     68\u001b[0m             \u001b[0;31m# To get the full stack trace, call:\u001b[0m\u001b[0;34m\u001b[0m\u001b[0;34m\u001b[0m\u001b[0m\n\u001b[1;32m     69\u001b[0m             \u001b[0;31m# `tf.debugging.disable_traceback_filtering()`\u001b[0m\u001b[0;34m\u001b[0m\u001b[0;34m\u001b[0m\u001b[0m\n\u001b[0;32m---> 70\u001b[0;31m             \u001b[0;32mraise\u001b[0m \u001b[0me\u001b[0m\u001b[0;34m.\u001b[0m\u001b[0mwith_traceback\u001b[0m\u001b[0;34m(\u001b[0m\u001b[0mfiltered_tb\u001b[0m\u001b[0;34m)\u001b[0m \u001b[0;32mfrom\u001b[0m \u001b[0;32mNone\u001b[0m\u001b[0;34m\u001b[0m\u001b[0;34m\u001b[0m\u001b[0m\n\u001b[0m\u001b[1;32m     71\u001b[0m         \u001b[0;32mfinally\u001b[0m\u001b[0;34m:\u001b[0m\u001b[0;34m\u001b[0m\u001b[0;34m\u001b[0m\u001b[0m\n\u001b[1;32m     72\u001b[0m             \u001b[0;32mdel\u001b[0m \u001b[0mfiltered_tb\u001b[0m\u001b[0;34m\u001b[0m\u001b[0;34m\u001b[0m\u001b[0m\n",
      "\u001b[0;32m/usr/lib/python3.10/json/__init__.py\u001b[0m in \u001b[0;36mdumps\u001b[0;34m(obj, skipkeys, ensure_ascii, check_circular, allow_nan, cls, indent, separators, default, sort_keys, **kw)\u001b[0m\n\u001b[1;32m    236\u001b[0m         \u001b[0mcheck_circular\u001b[0m\u001b[0;34m=\u001b[0m\u001b[0mcheck_circular\u001b[0m\u001b[0;34m,\u001b[0m \u001b[0mallow_nan\u001b[0m\u001b[0;34m=\u001b[0m\u001b[0mallow_nan\u001b[0m\u001b[0;34m,\u001b[0m \u001b[0mindent\u001b[0m\u001b[0;34m=\u001b[0m\u001b[0mindent\u001b[0m\u001b[0;34m,\u001b[0m\u001b[0;34m\u001b[0m\u001b[0;34m\u001b[0m\u001b[0m\n\u001b[1;32m    237\u001b[0m         \u001b[0mseparators\u001b[0m\u001b[0;34m=\u001b[0m\u001b[0mseparators\u001b[0m\u001b[0;34m,\u001b[0m \u001b[0mdefault\u001b[0m\u001b[0;34m=\u001b[0m\u001b[0mdefault\u001b[0m\u001b[0;34m,\u001b[0m \u001b[0msort_keys\u001b[0m\u001b[0;34m=\u001b[0m\u001b[0msort_keys\u001b[0m\u001b[0;34m,\u001b[0m\u001b[0;34m\u001b[0m\u001b[0;34m\u001b[0m\u001b[0m\n\u001b[0;32m--> 238\u001b[0;31m         **kw).encode(obj)\n\u001b[0m\u001b[1;32m    239\u001b[0m \u001b[0;34m\u001b[0m\u001b[0m\n\u001b[1;32m    240\u001b[0m \u001b[0;34m\u001b[0m\u001b[0m\n",
      "\u001b[0;32m/usr/lib/python3.10/json/encoder.py\u001b[0m in \u001b[0;36mencode\u001b[0;34m(self, o)\u001b[0m\n\u001b[1;32m    197\u001b[0m         \u001b[0;31m# exceptions aren't as detailed.  The list call should be roughly\u001b[0m\u001b[0;34m\u001b[0m\u001b[0;34m\u001b[0m\u001b[0m\n\u001b[1;32m    198\u001b[0m         \u001b[0;31m# equivalent to the PySequence_Fast that ''.join() would do.\u001b[0m\u001b[0;34m\u001b[0m\u001b[0;34m\u001b[0m\u001b[0m\n\u001b[0;32m--> 199\u001b[0;31m         \u001b[0mchunks\u001b[0m \u001b[0;34m=\u001b[0m \u001b[0mself\u001b[0m\u001b[0;34m.\u001b[0m\u001b[0miterencode\u001b[0m\u001b[0;34m(\u001b[0m\u001b[0mo\u001b[0m\u001b[0;34m,\u001b[0m \u001b[0m_one_shot\u001b[0m\u001b[0;34m=\u001b[0m\u001b[0;32mTrue\u001b[0m\u001b[0;34m)\u001b[0m\u001b[0;34m\u001b[0m\u001b[0;34m\u001b[0m\u001b[0m\n\u001b[0m\u001b[1;32m    200\u001b[0m         \u001b[0;32mif\u001b[0m \u001b[0;32mnot\u001b[0m \u001b[0misinstance\u001b[0m\u001b[0;34m(\u001b[0m\u001b[0mchunks\u001b[0m\u001b[0;34m,\u001b[0m \u001b[0;34m(\u001b[0m\u001b[0mlist\u001b[0m\u001b[0;34m,\u001b[0m \u001b[0mtuple\u001b[0m\u001b[0;34m)\u001b[0m\u001b[0;34m)\u001b[0m\u001b[0;34m:\u001b[0m\u001b[0;34m\u001b[0m\u001b[0;34m\u001b[0m\u001b[0m\n\u001b[1;32m    201\u001b[0m             \u001b[0mchunks\u001b[0m \u001b[0;34m=\u001b[0m \u001b[0mlist\u001b[0m\u001b[0;34m(\u001b[0m\u001b[0mchunks\u001b[0m\u001b[0;34m)\u001b[0m\u001b[0;34m\u001b[0m\u001b[0;34m\u001b[0m\u001b[0m\n",
      "\u001b[0;32m/usr/lib/python3.10/json/encoder.py\u001b[0m in \u001b[0;36miterencode\u001b[0;34m(self, o, _one_shot)\u001b[0m\n\u001b[1;32m    255\u001b[0m                 \u001b[0mself\u001b[0m\u001b[0;34m.\u001b[0m\u001b[0mkey_separator\u001b[0m\u001b[0;34m,\u001b[0m \u001b[0mself\u001b[0m\u001b[0;34m.\u001b[0m\u001b[0mitem_separator\u001b[0m\u001b[0;34m,\u001b[0m \u001b[0mself\u001b[0m\u001b[0;34m.\u001b[0m\u001b[0msort_keys\u001b[0m\u001b[0;34m,\u001b[0m\u001b[0;34m\u001b[0m\u001b[0;34m\u001b[0m\u001b[0m\n\u001b[1;32m    256\u001b[0m                 self.skipkeys, _one_shot)\n\u001b[0;32m--> 257\u001b[0;31m         \u001b[0;32mreturn\u001b[0m \u001b[0m_iterencode\u001b[0m\u001b[0;34m(\u001b[0m\u001b[0mo\u001b[0m\u001b[0;34m,\u001b[0m \u001b[0;36m0\u001b[0m\u001b[0;34m)\u001b[0m\u001b[0;34m\u001b[0m\u001b[0;34m\u001b[0m\u001b[0m\n\u001b[0m\u001b[1;32m    258\u001b[0m \u001b[0;34m\u001b[0m\u001b[0m\n\u001b[1;32m    259\u001b[0m def _make_iterencode(markers, _default, _encoder, _indent, _floatstr,\n",
      "\u001b[0;31mTypeError\u001b[0m: Unable to serialize [2.0896919 2.1128857 2.1081853] to JSON. Unrecognized type <class 'tensorflow.python.framework.ops.EagerTensor'>."
     ]
    }
   ],
   "source": [
    "trained_model.save(\"efficient_deepfake_model.h5\")"
   ]
  },
  {
   "cell_type": "code",
   "execution_count": null,
   "id": "4a95ae48-b755-4341-836f-c6ee79d42aab",
   "metadata": {},
   "outputs": [],
   "source": [
    "trained_model = tf.keras.models.load_model(\"efficient_deepfake_model.h5\")"
   ]
  },
  {
   "cell_type": "code",
   "execution_count": 9,
   "id": "c20eb52d-badf-4d5c-85fb-c5bed5724a09",
   "metadata": {
    "execution": {
     "iopub.execute_input": "2025-04-29T21:15:57.965238Z",
     "iopub.status.busy": "2025-04-29T21:15:57.964228Z",
     "iopub.status.idle": "2025-04-29T21:16:12.436175Z",
     "shell.execute_reply": "2025-04-29T21:16:12.434831Z",
     "shell.execute_reply.started": "2025-04-29T21:15:57.965192Z"
    },
    "tags": []
   },
   "outputs": [
    {
     "name": "stderr",
     "output_type": "stream",
     "text": [
      "2025-04-29 21:15:58.167842: I tensorflow/core/common_runtime/executor.cc:1197] [/device:CPU:0] (DEBUG INFO) Executor start aborting (this does not indicate an error and you can ignore this message): INVALID_ARGUMENT: You must feed a value for placeholder tensor 'Placeholder/_0' with dtype int32\n",
      "\t [[{{node Placeholder/_0}}]]\n"
     ]
    },
    {
     "name": "stdout",
     "output_type": "stream",
     "text": [
      "61/61 [==============================] - 14s 233ms/step - loss: 0.4537 - accuracy: 0.8356 - precision: 0.0000e+00 - recall: 0.0000e+00 - auc: 0.5196\n"
     ]
    },
    {
     "ename": "ValueError",
     "evalue": "too many values to unpack (expected 4)",
     "output_type": "error",
     "traceback": [
      "\u001b[0;31m---------------------------------------------------------------------------\u001b[0m",
      "\u001b[0;31mValueError\u001b[0m                                Traceback (most recent call last)",
      "\u001b[0;32m/tmp/ipykernel_9292/3178579268.py\u001b[0m in \u001b[0;36m<cell line: 1>\u001b[0;34m()\u001b[0m\n\u001b[0;32m----> 1\u001b[0;31m \u001b[0mtest_loss\u001b[0m\u001b[0;34m,\u001b[0m \u001b[0mtest_precision\u001b[0m\u001b[0;34m,\u001b[0m \u001b[0mtest_recall\u001b[0m\u001b[0;34m,\u001b[0m \u001b[0mtest_auc\u001b[0m \u001b[0;34m=\u001b[0m \u001b[0mtrained_model\u001b[0m\u001b[0;34m.\u001b[0m\u001b[0mevaluate\u001b[0m\u001b[0;34m(\u001b[0m\u001b[0mtest_gen\u001b[0m\u001b[0;34m)\u001b[0m\u001b[0;34m\u001b[0m\u001b[0;34m\u001b[0m\u001b[0m\n\u001b[0m\u001b[1;32m      2\u001b[0m \u001b[0mprint\u001b[0m\u001b[0;34m(\u001b[0m\u001b[0;34mf\"\\nTest Accuracy: {test_auc:.4f}\"\u001b[0m\u001b[0;34m)\u001b[0m\u001b[0;34m\u001b[0m\u001b[0;34m\u001b[0m\u001b[0m\n",
      "\u001b[0;31mValueError\u001b[0m: too many values to unpack (expected 4)"
     ]
    }
   ],
   "source": [
    "#!gt4.1\n",
    "test_loss, test_precision, test_recall, test_auc = trained_model.evaluate(test_gen)\n",
    "print(f\"\\nTest Accuracy: {test_auc:.4f}\")"
   ]
  },
  {
   "cell_type": "markdown",
   "id": "3ebef768-4f1b-4bc0-afc2-8e5b0827af98",
   "metadata": {},
   "source": [
    "### Обучение с разморозкй слоев(finetume model)"
   ]
  },
  {
   "cell_type": "code",
   "execution_count": 35,
   "id": "214e17f7-3d62-47d7-a74f-049354cb8118",
   "metadata": {},
   "outputs": [],
   "source": [
    "def train_model_finetune(train_generator, val_generator, fine_tune=False, initial_epochs=10, fine_tune_epochs=10):\n",
    "    \"\"\"\n",
    "    Двухэтапное обучение с последующей разморозкой слоев базовой модели.\n",
    "    \n",
    "    Parameters:\n",
    "        train_generator: генератор тренировочных данных\n",
    "        val_generator: генератор валидационных данных\n",
    "        fine_tune: выполнять ли дообучение\n",
    "        initial_epochs: количество эпох начального обучения\n",
    "        fine_tune_epochs: количество эпох дообучения\n",
    "    \"\"\"\n",
    "    model, base_model = build_efficientnet_model()\n",
    "    \n",
    "    history = model.fit(\n",
    "        train_generator,\n",
    "        epochs=initial_epochs,\n",
    "        validation_data=val_generator,\n",
    "        callbacks=[\n",
    "            ModelCheckpoint(\"initial_model.h5\", monitor=\"val_auc\", save_best_only=True, mode=\"max\"),\n",
    "            EarlyStopping(monitor=\"val_loss\", patience=3, restore_best_weights=True)\n",
    "        ]\n",
    "    )\n",
    "    \n",
    "    if not fine_tune:\n",
    "        return model, history\n",
    "    \n",
    "    base_model.trainable = True\n",
    "    \n",
    "    for layer in base_model.layers[:int(len(base_model.layers)*0.7)]:\n",
    "        layer.trainable = False\n",
    "    \n",
    "    model.compile(\n",
    "        optimizer=Adam(learning_rate=1e-5),\n",
    "        loss=\"binary_crossentropy\",\n",
    "        metrics=[\n",
    "            tf.keras.metrics.Precision(name=\"precision\"),\n",
    "            tf.keras.metrics.Recall(name=\"recall\"),\n",
    "            tf.keras.metrics.AUC(name=\"auc\"),\n",
    "        ]\n",
    "    )\n",
    "    \n",
    "    fine_tune_history = model.fit(\n",
    "        train_generator,\n",
    "        epochs=initial_epochs + fine_tune_epochs,\n",
    "        initial_epoch=history.epoch[-1] + 1,\n",
    "        validation_data=val_generator,\n",
    "        callbacks=[\n",
    "            ModelCheckpoint(\"fine_tuned_model.h5\", monitor=\"val_auc\", save_best_only=True, mode=\"max\"),\n",
    "            EarlyStopping(monitor=\"val_loss\", patience=5, restore_best_weights=True)\n",
    "        ]\n",
    "    )\n",
    "    \n",
    "    # Объединяем истории обучения\n",
    "    full_history = {\n",
    "        k: history.history[k] + fine_tune_history.history[k]\n",
    "        for k in history.history\n",
    "    }\n",
    "    \n",
    "    return model, full_history"
   ]
  },
  {
   "cell_type": "code",
   "execution_count": 36,
   "id": "f67c91d7-ab0e-4a2c-b41b-03954bc280bd",
   "metadata": {},
   "outputs": [
    {
     "name": "stdout",
     "output_type": "stream",
     "text": [
      "Epoch 1/5\n"
     ]
    },
    {
     "name": "stderr",
     "output_type": "stream",
     "text": [
      "/Users/aleksandr/opt/anaconda3/envs/deepfakedetection/lib/python3.12/site-packages/keras/src/trainers/data_adapters/py_dataset_adapter.py:121: UserWarning: Your `PyDataset` class should call `super().__init__(**kwargs)` in its constructor. `**kwargs` can include `workers`, `use_multiprocessing`, `max_queue_size`. Do not pass these arguments to `fit()`, as they will be ignored.\n",
      "  self._warn_if_super_not_called()\n"
     ]
    },
    {
     "name": "stdout",
     "output_type": "stream",
     "text": [
      "\u001b[1m 14/284\u001b[0m \u001b[37m━━━━━━━━━━━━━━━━━━━━\u001b[0m \u001b[1m43s\u001b[0m 161ms/step - accuracy: 0.7228 - auc: 0.4696 - loss: 0.5773 - precision: 0.0719 - recall: 0.0233       "
     ]
    },
    {
     "ename": "KeyboardInterrupt",
     "evalue": "",
     "output_type": "error",
     "traceback": [
      "\u001b[31m---------------------------------------------------------------------------\u001b[39m",
      "\u001b[31mKeyboardInterrupt\u001b[39m                         Traceback (most recent call last)",
      "\u001b[36mCell\u001b[39m\u001b[36m \u001b[39m\u001b[32mIn[36]\u001b[39m\u001b[32m, line 1\u001b[39m\n\u001b[32m----> \u001b[39m\u001b[32m1\u001b[39m finetune_trained_model, finetune_histories = train_model_finetune(train_gen, val_gen, fine_tune=\u001b[38;5;28;01mTrue\u001b[39;00m, initial_epochs=\u001b[32m5\u001b[39m, fine_tune_epochs=\u001b[32m10\u001b[39m)\n",
      "\u001b[36mCell\u001b[39m\u001b[36m \u001b[39m\u001b[32mIn[35]\u001b[39m\u001b[32m, line 14\u001b[39m, in \u001b[36mtrain_model_finetune\u001b[39m\u001b[34m(train_generator, val_generator, fine_tune, initial_epochs, fine_tune_epochs)\u001b[39m\n\u001b[32m      2\u001b[39m \u001b[38;5;250m\u001b[39m\u001b[33;03m\"\"\"\u001b[39;00m\n\u001b[32m      3\u001b[39m \u001b[33;03mДвухэтапное обучение с последующей разморозкой слоев базовой модели.\u001b[39;00m\n\u001b[32m      4\u001b[39m \n\u001b[32m   (...)\u001b[39m\u001b[32m     10\u001b[39m \u001b[33;03m    fine_tune_epochs: количество эпох дообучения\u001b[39;00m\n\u001b[32m     11\u001b[39m \u001b[33;03m\"\"\"\u001b[39;00m\n\u001b[32m     12\u001b[39m model, base_model = build_efficientnet_model()\n\u001b[32m---> \u001b[39m\u001b[32m14\u001b[39m history = model.fit(\n\u001b[32m     15\u001b[39m     train_generator,\n\u001b[32m     16\u001b[39m     epochs=initial_epochs,\n\u001b[32m     17\u001b[39m     validation_data=val_generator,\n\u001b[32m     18\u001b[39m     callbacks=[\n\u001b[32m     19\u001b[39m         ModelCheckpoint(\u001b[33m\"\u001b[39m\u001b[33minitial_model.h5\u001b[39m\u001b[33m\"\u001b[39m, monitor=\u001b[33m\"\u001b[39m\u001b[33mval_auc\u001b[39m\u001b[33m\"\u001b[39m, save_best_only=\u001b[38;5;28;01mTrue\u001b[39;00m, mode=\u001b[33m\"\u001b[39m\u001b[33mmax\u001b[39m\u001b[33m\"\u001b[39m),\n\u001b[32m     20\u001b[39m         EarlyStopping(monitor=\u001b[33m\"\u001b[39m\u001b[33mval_loss\u001b[39m\u001b[33m\"\u001b[39m, patience=\u001b[32m3\u001b[39m, restore_best_weights=\u001b[38;5;28;01mTrue\u001b[39;00m)\n\u001b[32m     21\u001b[39m     ]\n\u001b[32m     22\u001b[39m )\n\u001b[32m     24\u001b[39m \u001b[38;5;28;01mif\u001b[39;00m \u001b[38;5;129;01mnot\u001b[39;00m fine_tune:\n\u001b[32m     25\u001b[39m     \u001b[38;5;28;01mreturn\u001b[39;00m model, history\n",
      "\u001b[36mFile \u001b[39m\u001b[32m~/opt/anaconda3/envs/deepfakedetection/lib/python3.12/site-packages/keras/src/utils/traceback_utils.py:117\u001b[39m, in \u001b[36mfilter_traceback.<locals>.error_handler\u001b[39m\u001b[34m(*args, **kwargs)\u001b[39m\n\u001b[32m    115\u001b[39m filtered_tb = \u001b[38;5;28;01mNone\u001b[39;00m\n\u001b[32m    116\u001b[39m \u001b[38;5;28;01mtry\u001b[39;00m:\n\u001b[32m--> \u001b[39m\u001b[32m117\u001b[39m     \u001b[38;5;28;01mreturn\u001b[39;00m fn(*args, **kwargs)\n\u001b[32m    118\u001b[39m \u001b[38;5;28;01mexcept\u001b[39;00m \u001b[38;5;167;01mException\u001b[39;00m \u001b[38;5;28;01mas\u001b[39;00m e:\n\u001b[32m    119\u001b[39m     filtered_tb = _process_traceback_frames(e.__traceback__)\n",
      "\u001b[36mFile \u001b[39m\u001b[32m~/opt/anaconda3/envs/deepfakedetection/lib/python3.12/site-packages/keras/src/backend/tensorflow/trainer.py:371\u001b[39m, in \u001b[36mTensorFlowTrainer.fit\u001b[39m\u001b[34m(self, x, y, batch_size, epochs, verbose, callbacks, validation_split, validation_data, shuffle, class_weight, sample_weight, initial_epoch, steps_per_epoch, validation_steps, validation_batch_size, validation_freq)\u001b[39m\n\u001b[32m    369\u001b[39m \u001b[38;5;28;01mfor\u001b[39;00m step, iterator \u001b[38;5;129;01min\u001b[39;00m epoch_iterator:\n\u001b[32m    370\u001b[39m     callbacks.on_train_batch_begin(step)\n\u001b[32m--> \u001b[39m\u001b[32m371\u001b[39m     logs = \u001b[38;5;28mself\u001b[39m.train_function(iterator)\n\u001b[32m    372\u001b[39m     callbacks.on_train_batch_end(step, logs)\n\u001b[32m    373\u001b[39m     \u001b[38;5;28;01mif\u001b[39;00m \u001b[38;5;28mself\u001b[39m.stop_training:\n",
      "\u001b[36mFile \u001b[39m\u001b[32m~/opt/anaconda3/envs/deepfakedetection/lib/python3.12/site-packages/keras/src/backend/tensorflow/trainer.py:219\u001b[39m, in \u001b[36mTensorFlowTrainer._make_function.<locals>.function\u001b[39m\u001b[34m(iterator)\u001b[39m\n\u001b[32m    215\u001b[39m \u001b[38;5;28;01mdef\u001b[39;00m\u001b[38;5;250m \u001b[39m\u001b[34mfunction\u001b[39m(iterator):\n\u001b[32m    216\u001b[39m     \u001b[38;5;28;01mif\u001b[39;00m \u001b[38;5;28misinstance\u001b[39m(\n\u001b[32m    217\u001b[39m         iterator, (tf.data.Iterator, tf.distribute.DistributedIterator)\n\u001b[32m    218\u001b[39m     ):\n\u001b[32m--> \u001b[39m\u001b[32m219\u001b[39m         opt_outputs = multi_step_on_iterator(iterator)\n\u001b[32m    220\u001b[39m         \u001b[38;5;28;01mif\u001b[39;00m \u001b[38;5;129;01mnot\u001b[39;00m opt_outputs.has_value():\n\u001b[32m    221\u001b[39m             \u001b[38;5;28;01mraise\u001b[39;00m \u001b[38;5;167;01mStopIteration\u001b[39;00m\n",
      "\u001b[36mFile \u001b[39m\u001b[32m~/opt/anaconda3/envs/deepfakedetection/lib/python3.12/site-packages/tensorflow/python/util/traceback_utils.py:150\u001b[39m, in \u001b[36mfilter_traceback.<locals>.error_handler\u001b[39m\u001b[34m(*args, **kwargs)\u001b[39m\n\u001b[32m    148\u001b[39m filtered_tb = \u001b[38;5;28;01mNone\u001b[39;00m\n\u001b[32m    149\u001b[39m \u001b[38;5;28;01mtry\u001b[39;00m:\n\u001b[32m--> \u001b[39m\u001b[32m150\u001b[39m   \u001b[38;5;28;01mreturn\u001b[39;00m fn(*args, **kwargs)\n\u001b[32m    151\u001b[39m \u001b[38;5;28;01mexcept\u001b[39;00m \u001b[38;5;167;01mException\u001b[39;00m \u001b[38;5;28;01mas\u001b[39;00m e:\n\u001b[32m    152\u001b[39m   filtered_tb = _process_traceback_frames(e.__traceback__)\n",
      "\u001b[36mFile \u001b[39m\u001b[32m~/opt/anaconda3/envs/deepfakedetection/lib/python3.12/site-packages/tensorflow/python/eager/polymorphic_function/polymorphic_function.py:833\u001b[39m, in \u001b[36mFunction.__call__\u001b[39m\u001b[34m(self, *args, **kwds)\u001b[39m\n\u001b[32m    830\u001b[39m compiler = \u001b[33m\"\u001b[39m\u001b[33mxla\u001b[39m\u001b[33m\"\u001b[39m \u001b[38;5;28;01mif\u001b[39;00m \u001b[38;5;28mself\u001b[39m._jit_compile \u001b[38;5;28;01melse\u001b[39;00m \u001b[33m\"\u001b[39m\u001b[33mnonXla\u001b[39m\u001b[33m\"\u001b[39m\n\u001b[32m    832\u001b[39m \u001b[38;5;28;01mwith\u001b[39;00m OptionalXlaContext(\u001b[38;5;28mself\u001b[39m._jit_compile):\n\u001b[32m--> \u001b[39m\u001b[32m833\u001b[39m   result = \u001b[38;5;28mself\u001b[39m._call(*args, **kwds)\n\u001b[32m    835\u001b[39m new_tracing_count = \u001b[38;5;28mself\u001b[39m.experimental_get_tracing_count()\n\u001b[32m    836\u001b[39m without_tracing = (tracing_count == new_tracing_count)\n",
      "\u001b[36mFile \u001b[39m\u001b[32m~/opt/anaconda3/envs/deepfakedetection/lib/python3.12/site-packages/tensorflow/python/eager/polymorphic_function/polymorphic_function.py:878\u001b[39m, in \u001b[36mFunction._call\u001b[39m\u001b[34m(self, *args, **kwds)\u001b[39m\n\u001b[32m    875\u001b[39m \u001b[38;5;28mself\u001b[39m._lock.release()\n\u001b[32m    876\u001b[39m \u001b[38;5;66;03m# In this case we have not created variables on the first call. So we can\u001b[39;00m\n\u001b[32m    877\u001b[39m \u001b[38;5;66;03m# run the first trace but we should fail if variables are created.\u001b[39;00m\n\u001b[32m--> \u001b[39m\u001b[32m878\u001b[39m results = tracing_compilation.call_function(\n\u001b[32m    879\u001b[39m     args, kwds, \u001b[38;5;28mself\u001b[39m._variable_creation_config\n\u001b[32m    880\u001b[39m )\n\u001b[32m    881\u001b[39m \u001b[38;5;28;01mif\u001b[39;00m \u001b[38;5;28mself\u001b[39m._created_variables:\n\u001b[32m    882\u001b[39m   \u001b[38;5;28;01mraise\u001b[39;00m \u001b[38;5;167;01mValueError\u001b[39;00m(\u001b[33m\"\u001b[39m\u001b[33mCreating variables on a non-first call to a function\u001b[39m\u001b[33m\"\u001b[39m\n\u001b[32m    883\u001b[39m                    \u001b[33m\"\u001b[39m\u001b[33m decorated with tf.function.\u001b[39m\u001b[33m\"\u001b[39m)\n",
      "\u001b[36mFile \u001b[39m\u001b[32m~/opt/anaconda3/envs/deepfakedetection/lib/python3.12/site-packages/tensorflow/python/eager/polymorphic_function/tracing_compilation.py:139\u001b[39m, in \u001b[36mcall_function\u001b[39m\u001b[34m(args, kwargs, tracing_options)\u001b[39m\n\u001b[32m    137\u001b[39m bound_args = function.function_type.bind(*args, **kwargs)\n\u001b[32m    138\u001b[39m flat_inputs = function.function_type.unpack_inputs(bound_args)\n\u001b[32m--> \u001b[39m\u001b[32m139\u001b[39m \u001b[38;5;28;01mreturn\u001b[39;00m function._call_flat(  \u001b[38;5;66;03m# pylint: disable=protected-access\u001b[39;00m\n\u001b[32m    140\u001b[39m     flat_inputs, captured_inputs=function.captured_inputs\n\u001b[32m    141\u001b[39m )\n",
      "\u001b[36mFile \u001b[39m\u001b[32m~/opt/anaconda3/envs/deepfakedetection/lib/python3.12/site-packages/tensorflow/python/eager/polymorphic_function/concrete_function.py:1322\u001b[39m, in \u001b[36mConcreteFunction._call_flat\u001b[39m\u001b[34m(self, tensor_inputs, captured_inputs)\u001b[39m\n\u001b[32m   1318\u001b[39m possible_gradient_type = gradients_util.PossibleTapeGradientTypes(args)\n\u001b[32m   1319\u001b[39m \u001b[38;5;28;01mif\u001b[39;00m (possible_gradient_type == gradients_util.POSSIBLE_GRADIENT_TYPES_NONE\n\u001b[32m   1320\u001b[39m     \u001b[38;5;129;01mand\u001b[39;00m executing_eagerly):\n\u001b[32m   1321\u001b[39m   \u001b[38;5;66;03m# No tape is watching; skip to running the function.\u001b[39;00m\n\u001b[32m-> \u001b[39m\u001b[32m1322\u001b[39m   \u001b[38;5;28;01mreturn\u001b[39;00m \u001b[38;5;28mself\u001b[39m._inference_function.call_preflattened(args)\n\u001b[32m   1323\u001b[39m forward_backward = \u001b[38;5;28mself\u001b[39m._select_forward_and_backward_functions(\n\u001b[32m   1324\u001b[39m     args,\n\u001b[32m   1325\u001b[39m     possible_gradient_type,\n\u001b[32m   1326\u001b[39m     executing_eagerly)\n\u001b[32m   1327\u001b[39m forward_function, args_with_tangents = forward_backward.forward()\n",
      "\u001b[36mFile \u001b[39m\u001b[32m~/opt/anaconda3/envs/deepfakedetection/lib/python3.12/site-packages/tensorflow/python/eager/polymorphic_function/atomic_function.py:216\u001b[39m, in \u001b[36mAtomicFunction.call_preflattened\u001b[39m\u001b[34m(self, args)\u001b[39m\n\u001b[32m    214\u001b[39m \u001b[38;5;28;01mdef\u001b[39;00m\u001b[38;5;250m \u001b[39m\u001b[34mcall_preflattened\u001b[39m(\u001b[38;5;28mself\u001b[39m, args: Sequence[core.Tensor]) -> Any:\n\u001b[32m    215\u001b[39m \u001b[38;5;250m  \u001b[39m\u001b[33;03m\"\"\"Calls with flattened tensor inputs and returns the structured output.\"\"\"\u001b[39;00m\n\u001b[32m--> \u001b[39m\u001b[32m216\u001b[39m   flat_outputs = \u001b[38;5;28mself\u001b[39m.call_flat(*args)\n\u001b[32m    217\u001b[39m   \u001b[38;5;28;01mreturn\u001b[39;00m \u001b[38;5;28mself\u001b[39m.function_type.pack_output(flat_outputs)\n",
      "\u001b[36mFile \u001b[39m\u001b[32m~/opt/anaconda3/envs/deepfakedetection/lib/python3.12/site-packages/tensorflow/python/eager/polymorphic_function/atomic_function.py:251\u001b[39m, in \u001b[36mAtomicFunction.call_flat\u001b[39m\u001b[34m(self, *args)\u001b[39m\n\u001b[32m    249\u001b[39m \u001b[38;5;28;01mwith\u001b[39;00m record.stop_recording():\n\u001b[32m    250\u001b[39m   \u001b[38;5;28;01mif\u001b[39;00m \u001b[38;5;28mself\u001b[39m._bound_context.executing_eagerly():\n\u001b[32m--> \u001b[39m\u001b[32m251\u001b[39m     outputs = \u001b[38;5;28mself\u001b[39m._bound_context.call_function(\n\u001b[32m    252\u001b[39m         \u001b[38;5;28mself\u001b[39m.name,\n\u001b[32m    253\u001b[39m         \u001b[38;5;28mlist\u001b[39m(args),\n\u001b[32m    254\u001b[39m         \u001b[38;5;28mlen\u001b[39m(\u001b[38;5;28mself\u001b[39m.function_type.flat_outputs),\n\u001b[32m    255\u001b[39m     )\n\u001b[32m    256\u001b[39m   \u001b[38;5;28;01melse\u001b[39;00m:\n\u001b[32m    257\u001b[39m     outputs = make_call_op_in_graph(\n\u001b[32m    258\u001b[39m         \u001b[38;5;28mself\u001b[39m,\n\u001b[32m    259\u001b[39m         \u001b[38;5;28mlist\u001b[39m(args),\n\u001b[32m    260\u001b[39m         \u001b[38;5;28mself\u001b[39m._bound_context.function_call_options.as_attrs(),\n\u001b[32m    261\u001b[39m     )\n",
      "\u001b[36mFile \u001b[39m\u001b[32m~/opt/anaconda3/envs/deepfakedetection/lib/python3.12/site-packages/tensorflow/python/eager/context.py:1552\u001b[39m, in \u001b[36mContext.call_function\u001b[39m\u001b[34m(self, name, tensor_inputs, num_outputs)\u001b[39m\n\u001b[32m   1550\u001b[39m cancellation_context = cancellation.context()\n\u001b[32m   1551\u001b[39m \u001b[38;5;28;01mif\u001b[39;00m cancellation_context \u001b[38;5;129;01mis\u001b[39;00m \u001b[38;5;28;01mNone\u001b[39;00m:\n\u001b[32m-> \u001b[39m\u001b[32m1552\u001b[39m   outputs = execute.execute(\n\u001b[32m   1553\u001b[39m       name.decode(\u001b[33m\"\u001b[39m\u001b[33mutf-8\u001b[39m\u001b[33m\"\u001b[39m),\n\u001b[32m   1554\u001b[39m       num_outputs=num_outputs,\n\u001b[32m   1555\u001b[39m       inputs=tensor_inputs,\n\u001b[32m   1556\u001b[39m       attrs=attrs,\n\u001b[32m   1557\u001b[39m       ctx=\u001b[38;5;28mself\u001b[39m,\n\u001b[32m   1558\u001b[39m   )\n\u001b[32m   1559\u001b[39m \u001b[38;5;28;01melse\u001b[39;00m:\n\u001b[32m   1560\u001b[39m   outputs = execute.execute_with_cancellation(\n\u001b[32m   1561\u001b[39m       name.decode(\u001b[33m\"\u001b[39m\u001b[33mutf-8\u001b[39m\u001b[33m\"\u001b[39m),\n\u001b[32m   1562\u001b[39m       num_outputs=num_outputs,\n\u001b[32m   (...)\u001b[39m\u001b[32m   1566\u001b[39m       cancellation_manager=cancellation_context,\n\u001b[32m   1567\u001b[39m   )\n",
      "\u001b[36mFile \u001b[39m\u001b[32m~/opt/anaconda3/envs/deepfakedetection/lib/python3.12/site-packages/tensorflow/python/eager/execute.py:53\u001b[39m, in \u001b[36mquick_execute\u001b[39m\u001b[34m(op_name, num_outputs, inputs, attrs, ctx, name)\u001b[39m\n\u001b[32m     51\u001b[39m \u001b[38;5;28;01mtry\u001b[39;00m:\n\u001b[32m     52\u001b[39m   ctx.ensure_initialized()\n\u001b[32m---> \u001b[39m\u001b[32m53\u001b[39m   tensors = pywrap_tfe.TFE_Py_Execute(ctx._handle, device_name, op_name,\n\u001b[32m     54\u001b[39m                                       inputs, attrs, num_outputs)\n\u001b[32m     55\u001b[39m \u001b[38;5;28;01mexcept\u001b[39;00m core._NotOkStatusException \u001b[38;5;28;01mas\u001b[39;00m e:\n\u001b[32m     56\u001b[39m   \u001b[38;5;28;01mif\u001b[39;00m name \u001b[38;5;129;01mis\u001b[39;00m \u001b[38;5;129;01mnot\u001b[39;00m \u001b[38;5;28;01mNone\u001b[39;00m:\n",
      "\u001b[31mKeyboardInterrupt\u001b[39m: "
     ]
    }
   ],
   "source": [
    "finetune_trained_model, finetune_histories = train_model_finetune(train_gen, val_gen, fine_tune=True, initial_epochs=5, fine_tune_epochs=10)"
   ]
  },
  {
   "cell_type": "code",
   "execution_count": 29,
   "id": "5e690c7d-d217-4acf-8396-c9986f00d29f",
   "metadata": {},
   "outputs": [
    {
     "ename": "NameError",
     "evalue": "name 'pd' is not defined",
     "output_type": "error",
     "traceback": [
      "\u001b[31m---------------------------------------------------------------------------\u001b[39m",
      "\u001b[31mNameError\u001b[39m                                 Traceback (most recent call last)",
      "\u001b[36mCell\u001b[39m\u001b[36m \u001b[39m\u001b[32mIn[29]\u001b[39m\u001b[32m, line 1\u001b[39m\n\u001b[32m----> \u001b[39m\u001b[32m1\u001b[39m finetune_history_df = pd.DataFrame(finetune_histories.history)\n\u001b[32m      2\u001b[39m history_df.to_csv(\u001b[33m'\u001b[39m\u001b[33mresults/net/finetune_training_history.csv\u001b[39m\u001b[33m'\u001b[39m, index=\u001b[38;5;28;01mFalse\u001b[39;00m)\n",
      "\u001b[31mNameError\u001b[39m: name 'pd' is not defined"
     ]
    }
   ],
   "source": [
    "finetune_history_df = pd.DataFrame(finetune_histories.history)\n",
    "history_df.to_csv('results/net/finetune_training_history.csv', index=False)"
   ]
  },
  {
   "cell_type": "code",
   "execution_count": null,
   "id": "458d83a8-b590-4f36-948c-f5ad21d00c14",
   "metadata": {},
   "outputs": [],
   "source": [
    "efficientnet_model_dir = os.path.join(models_dir, 'efficientnet_finetune_deepfake_model.h5')\n",
    "finetune_trained_model.save(efficientnet_model_dir)"
   ]
  },
  {
   "cell_type": "code",
   "execution_count": null,
   "id": "8a26dbcd-3e55-41d8-8c0e-7f7b3f65e1ea",
   "metadata": {},
   "outputs": [],
   "source": [
    "y_pred = finetune_trained_model.predict(test_gen)\n",
    "y_pred_df = pd.DataFrame(y_pred)\n",
    "y_pred_df.to_csv('results/net/y_pred.csv', index=False)"
   ]
  },
  {
   "cell_type": "markdown",
   "id": "4075dcc8-376c-43c0-943d-493a8ff20821",
   "metadata": {},
   "source": [
    "### Analyze results for finetuned model"
   ]
  },
  {
   "cell_type": "code",
   "execution_count": null,
   "id": "ef652f3b-7eb9-4a7d-be34-32d1cb98786a",
   "metadata": {},
   "outputs": [],
   "source": [
    "y_pred = pd.read_csv('results/x/y_pred.csv')\n",
    "y_true = test_gen.labels"
   ]
  },
  {
   "cell_type": "code",
   "execution_count": null,
   "id": "d6cef180-8038-42f8-a553-feb7f9d8a75f",
   "metadata": {},
   "outputs": [],
   "source": [
    "finetune_loaded_history_df = pd.read_csv('results/finetune_training_history.csv')\n",
    "finetune_loaded_history = {'history': finetune_loaded_history_df.to_dict()}"
   ]
  }
 ],
 "metadata": {
  "kernelspec": {
   "display_name": "Python 3 (ipykernel)",
   "language": "python",
   "name": "python3"
  },
  "language_info": {
   "codemirror_mode": {
    "name": "ipython",
    "version": 3
   },
   "file_extension": ".py",
   "mimetype": "text/x-python",
   "name": "python",
   "nbconvert_exporter": "python",
   "pygments_lexer": "ipython3",
   "version": "3.12.4"
  }
 },
 "nbformat": 4,
 "nbformat_minor": 5
}
