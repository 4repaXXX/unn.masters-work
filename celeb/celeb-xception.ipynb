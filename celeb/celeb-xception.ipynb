{
 "cells": [
  {
   "cell_type": "markdown",
   "id": "522b6f61-14d7-4a71-8b4c-9452a557f69b",
   "metadata": {},
   "source": [
    "## Xception модели разпознавания deepfakes"
   ]
  },
  {
   "cell_type": "code",
   "execution_count": 3,
   "id": "4d15a492-9033-4819-a2b3-626730c32ccc",
   "metadata": {
    "tags": []
   },
   "outputs": [],
   "source": [
    "#!c1.4\n",
    "import os\n",
    "import zipfile\n",
    "\n",
    "import cv2\n",
    "import matplotlib.pyplot as plt\n",
    "import numpy as np\n",
    "import tensorflow as tf\n",
    "from keras.applications.vgg16 import VGG16, preprocess_input\n",
    "from keras.callbacks import EarlyStopping\n",
    "from keras.layers import (\n",
    "    BatchNormalization,\n",
    "    Conv2D,\n",
    "    Dense,\n",
    "    Dropout,\n",
    "    Flatten,\n",
    "    GlobalAveragePooling2D,\n",
    "    MaxPool2D,\n",
    ")\n",
    "from keras.models import Model, Sequential\n",
    "from keras.preprocessing import image\n",
    "from keras.utils import to_categorical\n",
    "from PIL import Image, ImageChops, ImageEnhance\n",
    "from scipy import stats\n",
    "from sklearn.metrics import classification_report\n",
    "from sklearn.model_selection import train_test_split\n",
    "from tensorflow.keras import layers, models, optimizers\n",
    "from tensorflow.keras.applications import ResNet50, Xception\n",
    "from tensorflow.keras.callbacks import EarlyStopping, ModelCheckpoint, ReduceLROnPlateau\n",
    "from tensorflow.keras.optimizers import Adam\n",
    "from tensorflow.keras.preprocessing.image import ImageDataGenerator\n",
    "\n",
    "import pandas as pd\n",
    "import matplotlib.pyplot as plt\n",
    "\n",
    "from data_prepare.dataset_tools import extract_zip_with_cleanup, prepare_and_save_data, create_data_generators\n",
    "from data_prepare.plots import plot_history, confusion_matrix_plot, roc_plot, precision_recall_plot"
   ]
  },
  {
   "cell_type": "code",
   "execution_count": 11,
   "id": "0a1c7789-35e5-4a15-a3a4-6e0793ddecd9",
   "metadata": {},
   "outputs": [],
   "source": [
    "def init_data():\n",
    "    image_archive_path = \"data/celeb/v1/\"\n",
    "    fake_images_path, real_images_path = extract_zip_with_cleanup(image_archive_path)\n",
    "    train_dir, val_dir, test_dir = prepare_and_save_data(real_images_path, fake_images_path, output_dir=\"data/dataset/x\")\n",
    "    return create_data_generators(train_dir, val_dir, test_dir)"
   ]
  },
  {
   "cell_type": "code",
   "execution_count": 27,
   "id": "ef9e75c1-efb9-4363-8830-602d5bb1b7d2",
   "metadata": {},
   "outputs": [],
   "source": [
    "models_dir = \"models\""
   ]
  },
  {
   "cell_type": "markdown",
   "id": "16d72266-2f42-4428-9a8e-9cd6344e2fff",
   "metadata": {},
   "source": [
    "### 1. Model fitting"
   ]
  },
  {
   "cell_type": "code",
   "execution_count": 23,
   "id": "c88d1702-286a-4d23-a6fe-27943ea43e98",
   "metadata": {
    "tags": []
   },
   "outputs": [],
   "source": [
    "def build_xception_model(input_shape=(299, 299, 3), num_classes=1):\n",
    "    \"\"\"\n",
    "    Строит модель на основе Xception для обнаружения дипфейков\n",
    "\n",
    "    Параметры:\n",
    "        input_shape: размер входного изображения (по умолчанию 299x299 для Xception)\n",
    "        num_classes: 1 для бинарной классификации (sigmoid), 2 для softmax\n",
    "    \"\"\"\n",
    "\n",
    "    base_model = Xception(\n",
    "        weights=\"imagenet\", include_top=False, input_shape=input_shape\n",
    "    )\n",
    "\n",
    "    base_model.trainable = False\n",
    "\n",
    "    model = Sequential(\n",
    "        [\n",
    "            base_model,\n",
    "            GlobalAveragePooling2D(),\n",
    "            BatchNormalization(),\n",
    "            Dense(256, activation=\"relu\"),\n",
    "            Dropout(0.5),\n",
    "            Dense(num_classes, activation=\"sigmoid\" if num_classes == 1 else \"softmax\"),\n",
    "        ]\n",
    "    )\n",
    "\n",
    "    model.compile(\n",
    "        optimizer=Adam(learning_rate=1e-4),\n",
    "        loss=\"binary_crossentropy\" if num_classes == 1 else \"categorical_crossentropy\",\n",
    "        metrics=[\n",
    "            tf.keras.metrics.Precision(name=\"precision\"),\n",
    "            tf.keras.metrics.Recall(name=\"recall\"),\n",
    "            tf.keras.metrics.AUC(name=\"auc\"),\n",
    "        ],\n",
    "    )\n",
    "\n",
    "    return model, base_model"
   ]
  },
  {
   "cell_type": "code",
   "execution_count": 22,
   "id": "8b0211e8-b233-46ae-91a3-eed0773773d2",
   "metadata": {},
   "outputs": [],
   "source": [
    "def train_model(train_generator, val_generator):\n",
    "    \"\"\"\n",
    "    Обучает модель на данных, загруженных в память\n",
    "\n",
    "    Parameters:\n",
    "        train_generator (np.array): Тренировочные изображения\n",
    "        val_generator (np.array): Тестовые изображения\n",
    "\n",
    "    Returns:\n",
    "        tuple: (model, history) - обученная модель и история обучения\n",
    "    \"\"\"\n",
    "    model, _ = build_xception_model()\n",
    "\n",
    "    history = model.fit(\n",
    "        train_generator,\n",
    "        batch_size=32,\n",
    "        epochs=10,\n",
    "        validation_data=val_generator,\n",
    "        callbacks=[\n",
    "            ModelCheckpoint(\"best_model.h5\", monitor=\"val_pr_auc\", save_best_only=True),\n",
    "            EarlyStopping(monitor=\"val_loss\", patience=3),\n",
    "        ],\n",
    "    )\n",
    "\n",
    "    return model, history"
   ]
  },
  {
   "cell_type": "markdown",
   "id": "2fb09952-8e6b-481e-8a13-4a13bd75cefb",
   "metadata": {},
   "source": [
    "#### Подготовка данных и выполнение"
   ]
  },
  {
   "cell_type": "code",
   "execution_count": 12,
   "id": "ae446f51-3d22-4cc2-b667-eaa5624c452e",
   "metadata": {
    "tags": []
   },
   "outputs": [
    {
     "name": "stdout",
     "output_type": "stream",
     "text": [
      "Found 9074 images belonging to 2 classes.\n",
      "Found 1944 images belonging to 2 classes.\n",
      "Found 1946 images belonging to 2 classes.\n",
      "\n",
      "Class indices: {'fake': 0, 'real': 1}\n",
      "Train samples: 9074\n",
      "Val samples: 1944\n",
      "Test samples: 1946\n"
     ]
    }
   ],
   "source": [
    "train_gen, val_gen, test_gen = init_data()"
   ]
  },
  {
   "cell_type": "code",
   "execution_count": null,
   "id": "f418eb61-c13c-4fb5-b6dc-a58a92c7fd4d",
   "metadata": {
    "execution": {
     "iopub.execute_input": "2025-04-28T19:35:27.009069Z",
     "iopub.status.busy": "2025-04-28T19:35:27.007890Z"
    },
    "tags": []
   },
   "outputs": [
    {
     "name": "stderr",
     "output_type": "stream",
     "text": [
      "2025-04-28 19:35:28.471718: I tensorflow/core/common_runtime/gpu/gpu_device.cc:1635] Created device /job:localhost/replica:0/task:0/device:GPU:0 with 13944 MB memory:  -> device: 0, name: Tesla T4, pci bus id: 0000:8c:00.0, compute capability: 7.5\n",
      "2025-04-28 19:35:31.451634: I tensorflow/core/common_runtime/executor.cc:1197] [/device:CPU:0] (DEBUG INFO) Executor start aborting (this does not indicate an error and you can ignore this message): INVALID_ARGUMENT: You must feed a value for placeholder tensor 'Placeholder/_0' with dtype int32\n",
      "\t [[{{node Placeholder/_0}}]]\n"
     ]
    },
    {
     "name": "stdout",
     "output_type": "stream",
     "text": [
      "Epoch 1/10\n"
     ]
    },
    {
     "name": "stderr",
     "output_type": "stream",
     "text": [
      "2025-04-28 19:35:35.231181: I tensorflow/compiler/xla/stream_executor/cuda/cuda_dnn.cc:424] Loaded cuDNN version 8900\n",
      "2025-04-28 19:35:39.403835: I tensorflow/compiler/xla/service/service.cc:169] XLA service 0x7f3f0457f340 initialized for platform CUDA (this does not guarantee that XLA will be used). Devices:\n",
      "2025-04-28 19:35:39.403881: I tensorflow/compiler/xla/service/service.cc:177]   StreamExecutor device (0): Tesla T4, Compute Capability 7.5\n",
      "2025-04-28 19:35:39.580353: I tensorflow/compiler/mlir/tensorflow/utils/dump_mlir_util.cc:269] disabling MLIR crash reproducer, set env var `MLIR_CRASH_REPRODUCER_DIRECTORY` to enable.\n",
      "2025-04-28 19:35:40.935433: I ./tensorflow/compiler/jit/device_compiler.h:180] Compiled cluster using XLA!  This line is logged at most once for the lifetime of the process.\n"
     ]
    },
    {
     "name": "stdout",
     "output_type": "stream",
     "text": [
      "284/284 [==============================] - ETA: 0s - loss: 0.5545 - precision: 0.2627 - recall: 0.1773 - auc: 0.5748"
     ]
    },
    {
     "name": "stderr",
     "output_type": "stream",
     "text": [
      "2025-04-28 19:36:47.964834: I tensorflow/core/common_runtime/executor.cc:1197] [/device:CPU:0] (DEBUG INFO) Executor start aborting (this does not indicate an error and you can ignore this message): INVALID_ARGUMENT: You must feed a value for placeholder tensor 'Placeholder/_0' with dtype int32\n",
      "\t [[{{node Placeholder/_0}}]]\n"
     ]
    },
    {
     "name": "stdout",
     "output_type": "stream",
     "text": [
      "WARNING:tensorflow:Can save best model only with val_pr_auc available, skipping.\n",
      "284/284 [==============================] - 93s 294ms/step - loss: 0.5545 - precision: 0.2627 - recall: 0.1773 - auc: 0.5748 - val_loss: 0.4415 - val_precision: 0.5692 - val_recall: 0.1160 - val_auc: 0.6197\n",
      "Epoch 2/10\n",
      "284/284 [==============================] - ETA: 0s - loss: 0.4780 - precision: 0.4226 - recall: 0.1961 - auc: 0.6394WARNING:tensorflow:Can save best model only with val_pr_auc available, skipping.\n",
      "284/284 [==============================] - 70s 246ms/step - loss: 0.4780 - precision: 0.4226 - recall: 0.1961 - auc: 0.6394 - val_loss: 0.4393 - val_precision: 0.5614 - val_recall: 0.1003 - val_auc: 0.6227\n",
      "Epoch 3/10\n",
      "284/284 [==============================] - ETA: 0s - loss: 0.4537 - precision: 0.4783 - recall: 0.2216 - auc: 0.6616WARNING:tensorflow:Can save best model only with val_pr_auc available, skipping.\n",
      "284/284 [==============================] - 70s 247ms/step - loss: 0.4537 - precision: 0.4783 - recall: 0.2216 - auc: 0.6616 - val_loss: 0.4282 - val_precision: 0.6444 - val_recall: 0.0909 - val_auc: 0.6603\n",
      "Epoch 4/10\n",
      "284/284 [==============================] - ETA: 0s - loss: 0.4332 - precision: 0.5204 - recall: 0.2398 - auc: 0.6887WARNING:tensorflow:Can save best model only with val_pr_auc available, skipping.\n",
      "284/284 [==============================] - 71s 250ms/step - loss: 0.4332 - precision: 0.5204 - recall: 0.2398 - auc: 0.6887 - val_loss: 0.4321 - val_precision: 0.5200 - val_recall: 0.1223 - val_auc: 0.6573\n",
      "Epoch 5/10\n",
      "284/284 [==============================] - ETA: 0s - loss: 0.4178 - precision: 0.5225 - recall: 0.2263 - auc: 0.7074WARNING:tensorflow:Can save best model only with val_pr_auc available, skipping.\n",
      "284/284 [==============================] - 71s 250ms/step - loss: 0.4178 - precision: 0.5225 - recall: 0.2263 - auc: 0.7074 - val_loss: 0.4186 - val_precision: 0.6230 - val_recall: 0.1191 - val_auc: 0.6714\n",
      "Epoch 6/10\n",
      "284/284 [==============================] - ETA: 0s - loss: 0.4021 - precision: 0.5667 - recall: 0.2539 - auc: 0.7241WARNING:tensorflow:Can save best model only with val_pr_auc available, skipping.\n",
      "284/284 [==============================] - 71s 251ms/step - loss: 0.4021 - precision: 0.5667 - recall: 0.2539 - auc: 0.7241 - val_loss: 0.4166 - val_precision: 0.5588 - val_recall: 0.1191 - val_auc: 0.6913\n",
      "Epoch 7/10\n",
      "284/284 [==============================] - ETA: 0s - loss: 0.3917 - precision: 0.6151 - recall: 0.2619 - auc: 0.7417WARNING:tensorflow:Can save best model only with val_pr_auc available, skipping.\n",
      "284/284 [==============================] - 72s 252ms/step - loss: 0.3917 - precision: 0.6151 - recall: 0.2619 - auc: 0.7417 - val_loss: 0.4118 - val_precision: 0.6364 - val_recall: 0.1317 - val_auc: 0.6882\n",
      "Epoch 8/10\n",
      "284/284 [==============================] - ETA: 0s - loss: 0.3886 - precision: 0.6219 - recall: 0.2518 - auc: 0.7422WARNING:tensorflow:Can save best model only with val_pr_auc available, skipping.\n",
      "284/284 [==============================] - 71s 251ms/step - loss: 0.3886 - precision: 0.6219 - recall: 0.2518 - auc: 0.7422 - val_loss: 0.4124 - val_precision: 0.5684 - val_recall: 0.1693 - val_auc: 0.6943\n",
      "Epoch 9/10\n",
      "284/284 [==============================] - ETA: 0s - loss: 0.3725 - precision: 0.6167 - recall: 0.2733 - auc: 0.7712WARNING:tensorflow:Can save best model only with val_pr_auc available, skipping.\n",
      "284/284 [==============================] - 71s 251ms/step - loss: 0.3725 - precision: 0.6167 - recall: 0.2733 - auc: 0.7712 - val_loss: 0.4127 - val_precision: 0.6316 - val_recall: 0.1505 - val_auc: 0.6888\n",
      "Epoch 10/10\n",
      " 83/284 [=======>......................] - ETA: 41s - loss: 0.3686 - precision: 0.6354 - recall: 0.2779 - auc: 0.7784"
     ]
    }
   ],
   "source": [
    "trained_model, histories = train_model(train_gen, val_gen)"
   ]
  },
  {
   "cell_type": "code",
   "execution_count": 10,
   "id": "aa2fe50f-70df-4d4f-8beb-f8b171f0398b",
   "metadata": {
    "execution": {
     "iopub.execute_input": "2025-04-28T04:12:05.796943Z",
     "iopub.status.busy": "2025-04-28T04:12:05.795571Z",
     "iopub.status.idle": "2025-04-28T04:12:11.705353Z",
     "shell.execute_reply": "2025-04-28T04:12:11.703961Z",
     "shell.execute_reply.started": "2025-04-28T04:12:05.796898Z"
    },
    "tags": []
   },
   "outputs": [],
   "source": [
    "trained_model.save(\"xception_deepfake_model.h5\")"
   ]
  },
  {
   "cell_type": "code",
   "execution_count": 5,
   "id": "fd224cfb-2c21-44f6-9529-cfd18524d57a",
   "metadata": {
    "execution": {
     "iopub.execute_input": "2025-04-29T19:04:43.778793Z",
     "iopub.status.busy": "2025-04-29T19:04:43.777213Z",
     "iopub.status.idle": "2025-04-29T19:04:47.407872Z",
     "shell.execute_reply": "2025-04-29T19:04:47.405808Z",
     "shell.execute_reply.started": "2025-04-29T19:04:43.778673Z"
    },
    "tags": []
   },
   "outputs": [
    {
     "name": "stderr",
     "output_type": "stream",
     "text": [
      "2025-04-29 19:04:44.008857: E tensorflow/compiler/xla/stream_executor/cuda/cuda_driver.cc:266] failed call to cuInit: CUDA_ERROR_NO_DEVICE: no CUDA-capable device is detected\n"
     ]
    }
   ],
   "source": [
    "trained_model = tf.keras.models.load_model(\"xception_deepfake_model.h5\")"
   ]
  },
  {
   "cell_type": "code",
   "execution_count": 5,
   "id": "8182a02c-a228-4dfc-9d43-6ea535456e0c",
   "metadata": {
    "execution": {
     "iopub.execute_input": "2025-05-01T18:24:46.577066Z",
     "iopub.status.busy": "2025-05-01T18:24:46.575915Z",
     "iopub.status.idle": "2025-05-01T18:24:46.617322Z",
     "shell.execute_reply": "2025-05-01T18:24:46.616151Z",
     "shell.execute_reply.started": "2025-05-01T18:24:46.577019Z"
    },
    "tags": []
   },
   "outputs": [
    {
     "ename": "NameError",
     "evalue": "name 'trained_model' is not defined",
     "output_type": "error",
     "traceback": [
      "\u001b[0;31m---------------------------------------------------------------------------\u001b[0m",
      "\u001b[0;31mNameError\u001b[0m                                 Traceback (most recent call last)",
      "\u001b[0;32m/tmp/ipykernel_4596/3178579268.py\u001b[0m in \u001b[0;36m<cell line: 1>\u001b[0;34m()\u001b[0m\n\u001b[0;32m----> 1\u001b[0;31m \u001b[0mtest_loss\u001b[0m\u001b[0;34m,\u001b[0m \u001b[0mtest_precision\u001b[0m\u001b[0;34m,\u001b[0m \u001b[0mtest_recall\u001b[0m\u001b[0;34m,\u001b[0m \u001b[0mtest_auc\u001b[0m \u001b[0;34m=\u001b[0m \u001b[0mtrained_model\u001b[0m\u001b[0;34m.\u001b[0m\u001b[0mevaluate\u001b[0m\u001b[0;34m(\u001b[0m\u001b[0mtest_gen\u001b[0m\u001b[0;34m)\u001b[0m\u001b[0;34m\u001b[0m\u001b[0;34m\u001b[0m\u001b[0m\n\u001b[0m\u001b[1;32m      2\u001b[0m \u001b[0mprint\u001b[0m\u001b[0;34m(\u001b[0m\u001b[0;34mf\"\\nTest Accuracy: {test_auc:.4f}\"\u001b[0m\u001b[0;34m)\u001b[0m\u001b[0;34m\u001b[0m\u001b[0;34m\u001b[0m\u001b[0m\n",
      "\u001b[0;31mNameError\u001b[0m: name 'trained_model' is not defined"
     ]
    }
   ],
   "source": [
    "#!gt4.1\n",
    "test_loss, test_precision, test_recall, test_auc = trained_model.evaluate(test_gen)\n",
    "print(f\"\\nTest Accuracy: {test_auc:.4f}\")"
   ]
  },
  {
   "cell_type": "markdown",
   "id": "9b82a6e7-721b-4503-ba7b-4448f031659b",
   "metadata": {},
   "source": [
    "### 2. Fine tuned"
   ]
  },
  {
   "cell_type": "code",
   "execution_count": 30,
   "id": "20c972e4-3633-4885-90c0-15d8170722c3",
   "metadata": {
    "tags": []
   },
   "outputs": [],
   "source": [
    "def train_model_finetune(train_generator, val_generator, model, base_model, fine_tune=False, initial_epochs=10, fine_tune_epochs=10):\n",
    "    \"\"\"\n",
    "    Двухэтапное обучение с возможностью дообучения\n",
    "    \n",
    "    Parameters:\n",
    "        train_generator: генератор тренировочных данных\n",
    "        val_generator: генератор валидационных данных\n",
    "        fine_tune: выполнять ли дообучение\n",
    "        initial_epochs: количество эпох начального обучения\n",
    "        fine_tune_epochs: количество эпох дообучения\n",
    "    \"\"\"\n",
    "    \n",
    "    history = model.fit(\n",
    "        train_generator,\n",
    "        epochs=initial_epochs,\n",
    "        validation_data=val_generator,\n",
    "        callbacks=[\n",
    "            ModelCheckpoint(os.path.join(models_dir, \"initial_model.h5\"), monitor=\"val_auc\", save_best_only=True, mode=\"max\"),\n",
    "            EarlyStopping(monitor=\"val_loss\", patience=3, restore_best_weights=True)\n",
    "        ]\n",
    "    )\n",
    "    \n",
    "    if not fine_tune:\n",
    "        return model, history\n",
    "    \n",
    "    base_model.trainable = True\n",
    "    \n",
    "    for layer in base_model.layers[:int(len(base_model.layers)*0.7)]:\n",
    "        layer.trainable = False\n",
    "    \n",
    "    model.compile(\n",
    "        optimizer=Adam(learning_rate=1e-5),\n",
    "        loss=\"binary_crossentropy\",\n",
    "        metrics=[\n",
    "            tf.keras.metrics.Precision(name=\"precision\"),\n",
    "            tf.keras.metrics.Recall(name=\"recall\"),\n",
    "            tf.keras.metrics.AUC(name=\"auc\"),\n",
    "        ]\n",
    "    )\n",
    "    \n",
    "    fine_tune_history = model.fit(\n",
    "        train_generator,\n",
    "        epochs=initial_epochs + fine_tune_epochs,\n",
    "        initial_epoch=history.epoch[-1] + 1,\n",
    "        validation_data=val_generator,\n",
    "        callbacks=[\n",
    "            EarlyStopping(monitor=\"val_loss\", patience=5, restore_best_weights=True)\n",
    "        ]\n",
    "    )\n",
    "    \n",
    "    # Объединяем истории обучения\n",
    "    full_history = {\n",
    "        k: history.history[k] + fine_tune_history.history[k]\n",
    "        for k in history.history\n",
    "    }\n",
    "    \n",
    "    return model, full_history"
   ]
  },
  {
   "cell_type": "markdown",
   "id": "190d1159-99c7-412f-8978-0ce898a4c0ae",
   "metadata": {},
   "source": [
    "#### Подготовка данных и выполнение"
   ]
  },
  {
   "cell_type": "code",
   "execution_count": 13,
   "id": "f40a42ea-d6a5-4146-83d4-c8fb38b61b87",
   "metadata": {},
   "outputs": [
    {
     "name": "stdout",
     "output_type": "stream",
     "text": [
      "Found 9074 images belonging to 2 classes.\n",
      "Found 1944 images belonging to 2 classes.\n",
      "Found 1946 images belonging to 2 classes.\n",
      "\n",
      "Class indices: {'fake': 0, 'real': 1}\n",
      "Train samples: 9074\n",
      "Val samples: 1944\n",
      "Test samples: 1946\n"
     ]
    }
   ],
   "source": [
    "train_gen, val_gen, test_gen = init_data()"
   ]
  },
  {
   "cell_type": "code",
   "execution_count": 31,
   "id": "21ba0bf5-b806-42e8-8acb-81a3a0503158",
   "metadata": {
    "scrolled": true,
    "tags": []
   },
   "outputs": [
    {
     "name": "stdout",
     "output_type": "stream",
     "text": [
      "Epoch 1/5\n"
     ]
    },
    {
     "name": "stderr",
     "output_type": "stream",
     "text": [
      "/Users/aleksandr/opt/anaconda3/envs/deepfakedetection/lib/python3.12/site-packages/keras/src/trainers/data_adapters/py_dataset_adapter.py:121: UserWarning: Your `PyDataset` class should call `super().__init__(**kwargs)` in its constructor. `**kwargs` can include `workers`, `use_multiprocessing`, `max_queue_size`. Do not pass these arguments to `fit()`, as they will be ignored.\n",
      "  self._warn_if_super_not_called()\n"
     ]
    },
    {
     "name": "stdout",
     "output_type": "stream",
     "text": [
      "\u001b[1m  5/284\u001b[0m \u001b[37m━━━━━━━━━━━━━━━━━━━━\u001b[0m \u001b[1m3:33\u001b[0m 766ms/step - auc: 0.5207 - loss: 0.8084 - precision: 0.1316 - recall: 0.3778"
     ]
    },
    {
     "ename": "KeyboardInterrupt",
     "evalue": "",
     "output_type": "error",
     "traceback": [
      "\u001b[31m---------------------------------------------------------------------------\u001b[39m",
      "\u001b[31mKeyboardInterrupt\u001b[39m                         Traceback (most recent call last)",
      "\u001b[36mCell\u001b[39m\u001b[36m \u001b[39m\u001b[32mIn[31]\u001b[39m\u001b[32m, line 2\u001b[39m\n\u001b[32m      1\u001b[39m model, base_model = build_xception_model()\n\u001b[32m----> \u001b[39m\u001b[32m2\u001b[39m finetune_trained_model, finetune_histories = train_model_finetune(train_gen, val_gen, model, base_model, fine_tune=\u001b[38;5;28;01mTrue\u001b[39;00m, initial_epochs=\u001b[32m5\u001b[39m, fine_tune_epochs=\u001b[32m10\u001b[39m)\n",
      "\u001b[36mCell\u001b[39m\u001b[36m \u001b[39m\u001b[32mIn[30]\u001b[39m\u001b[32m, line 13\u001b[39m, in \u001b[36mtrain_model_finetune\u001b[39m\u001b[34m(train_generator, val_generator, model, base_model, fine_tune, initial_epochs, fine_tune_epochs)\u001b[39m\n\u001b[32m      1\u001b[39m \u001b[38;5;28;01mdef\u001b[39;00m\u001b[38;5;250m \u001b[39m\u001b[34mtrain_model_finetune\u001b[39m(train_generator, val_generator, model, base_model, fine_tune=\u001b[38;5;28;01mFalse\u001b[39;00m, initial_epochs=\u001b[32m10\u001b[39m, fine_tune_epochs=\u001b[32m10\u001b[39m):\n\u001b[32m      2\u001b[39m \u001b[38;5;250m    \u001b[39m\u001b[33;03m\"\"\"\u001b[39;00m\n\u001b[32m      3\u001b[39m \u001b[33;03m    Двухэтапное обучение с возможностью дообучения\u001b[39;00m\n\u001b[32m      4\u001b[39m \n\u001b[32m   (...)\u001b[39m\u001b[32m     10\u001b[39m \u001b[33;03m        fine_tune_epochs: количество эпох дообучения\u001b[39;00m\n\u001b[32m     11\u001b[39m \u001b[33;03m    \"\"\"\u001b[39;00m\n\u001b[32m---> \u001b[39m\u001b[32m13\u001b[39m     history = model.fit(\n\u001b[32m     14\u001b[39m         train_generator,\n\u001b[32m     15\u001b[39m         epochs=initial_epochs,\n\u001b[32m     16\u001b[39m         validation_data=val_generator,\n\u001b[32m     17\u001b[39m         callbacks=[\n\u001b[32m     18\u001b[39m             ModelCheckpoint(os.path.join(models_dir, \u001b[33m\"\u001b[39m\u001b[33minitial_model.h5\u001b[39m\u001b[33m\"\u001b[39m), monitor=\u001b[33m\"\u001b[39m\u001b[33mval_auc\u001b[39m\u001b[33m\"\u001b[39m, save_best_only=\u001b[38;5;28;01mTrue\u001b[39;00m, mode=\u001b[33m\"\u001b[39m\u001b[33mmax\u001b[39m\u001b[33m\"\u001b[39m),\n\u001b[32m     19\u001b[39m             EarlyStopping(monitor=\u001b[33m\"\u001b[39m\u001b[33mval_loss\u001b[39m\u001b[33m\"\u001b[39m, patience=\u001b[32m3\u001b[39m, restore_best_weights=\u001b[38;5;28;01mTrue\u001b[39;00m)\n\u001b[32m     20\u001b[39m         ]\n\u001b[32m     21\u001b[39m     )\n\u001b[32m     23\u001b[39m     \u001b[38;5;28;01mif\u001b[39;00m \u001b[38;5;129;01mnot\u001b[39;00m fine_tune:\n\u001b[32m     24\u001b[39m         \u001b[38;5;28;01mreturn\u001b[39;00m model, history\n",
      "\u001b[36mFile \u001b[39m\u001b[32m~/opt/anaconda3/envs/deepfakedetection/lib/python3.12/site-packages/keras/src/utils/traceback_utils.py:117\u001b[39m, in \u001b[36mfilter_traceback.<locals>.error_handler\u001b[39m\u001b[34m(*args, **kwargs)\u001b[39m\n\u001b[32m    115\u001b[39m filtered_tb = \u001b[38;5;28;01mNone\u001b[39;00m\n\u001b[32m    116\u001b[39m \u001b[38;5;28;01mtry\u001b[39;00m:\n\u001b[32m--> \u001b[39m\u001b[32m117\u001b[39m     \u001b[38;5;28;01mreturn\u001b[39;00m fn(*args, **kwargs)\n\u001b[32m    118\u001b[39m \u001b[38;5;28;01mexcept\u001b[39;00m \u001b[38;5;167;01mException\u001b[39;00m \u001b[38;5;28;01mas\u001b[39;00m e:\n\u001b[32m    119\u001b[39m     filtered_tb = _process_traceback_frames(e.__traceback__)\n",
      "\u001b[36mFile \u001b[39m\u001b[32m~/opt/anaconda3/envs/deepfakedetection/lib/python3.12/site-packages/keras/src/backend/tensorflow/trainer.py:371\u001b[39m, in \u001b[36mTensorFlowTrainer.fit\u001b[39m\u001b[34m(self, x, y, batch_size, epochs, verbose, callbacks, validation_split, validation_data, shuffle, class_weight, sample_weight, initial_epoch, steps_per_epoch, validation_steps, validation_batch_size, validation_freq)\u001b[39m\n\u001b[32m    369\u001b[39m \u001b[38;5;28;01mfor\u001b[39;00m step, iterator \u001b[38;5;129;01min\u001b[39;00m epoch_iterator:\n\u001b[32m    370\u001b[39m     callbacks.on_train_batch_begin(step)\n\u001b[32m--> \u001b[39m\u001b[32m371\u001b[39m     logs = \u001b[38;5;28mself\u001b[39m.train_function(iterator)\n\u001b[32m    372\u001b[39m     callbacks.on_train_batch_end(step, logs)\n\u001b[32m    373\u001b[39m     \u001b[38;5;28;01mif\u001b[39;00m \u001b[38;5;28mself\u001b[39m.stop_training:\n",
      "\u001b[36mFile \u001b[39m\u001b[32m~/opt/anaconda3/envs/deepfakedetection/lib/python3.12/site-packages/keras/src/backend/tensorflow/trainer.py:219\u001b[39m, in \u001b[36mTensorFlowTrainer._make_function.<locals>.function\u001b[39m\u001b[34m(iterator)\u001b[39m\n\u001b[32m    215\u001b[39m \u001b[38;5;28;01mdef\u001b[39;00m\u001b[38;5;250m \u001b[39m\u001b[34mfunction\u001b[39m(iterator):\n\u001b[32m    216\u001b[39m     \u001b[38;5;28;01mif\u001b[39;00m \u001b[38;5;28misinstance\u001b[39m(\n\u001b[32m    217\u001b[39m         iterator, (tf.data.Iterator, tf.distribute.DistributedIterator)\n\u001b[32m    218\u001b[39m     ):\n\u001b[32m--> \u001b[39m\u001b[32m219\u001b[39m         opt_outputs = multi_step_on_iterator(iterator)\n\u001b[32m    220\u001b[39m         \u001b[38;5;28;01mif\u001b[39;00m \u001b[38;5;129;01mnot\u001b[39;00m opt_outputs.has_value():\n\u001b[32m    221\u001b[39m             \u001b[38;5;28;01mraise\u001b[39;00m \u001b[38;5;167;01mStopIteration\u001b[39;00m\n",
      "\u001b[36mFile \u001b[39m\u001b[32m~/opt/anaconda3/envs/deepfakedetection/lib/python3.12/site-packages/tensorflow/python/util/traceback_utils.py:150\u001b[39m, in \u001b[36mfilter_traceback.<locals>.error_handler\u001b[39m\u001b[34m(*args, **kwargs)\u001b[39m\n\u001b[32m    148\u001b[39m filtered_tb = \u001b[38;5;28;01mNone\u001b[39;00m\n\u001b[32m    149\u001b[39m \u001b[38;5;28;01mtry\u001b[39;00m:\n\u001b[32m--> \u001b[39m\u001b[32m150\u001b[39m   \u001b[38;5;28;01mreturn\u001b[39;00m fn(*args, **kwargs)\n\u001b[32m    151\u001b[39m \u001b[38;5;28;01mexcept\u001b[39;00m \u001b[38;5;167;01mException\u001b[39;00m \u001b[38;5;28;01mas\u001b[39;00m e:\n\u001b[32m    152\u001b[39m   filtered_tb = _process_traceback_frames(e.__traceback__)\n",
      "\u001b[36mFile \u001b[39m\u001b[32m~/opt/anaconda3/envs/deepfakedetection/lib/python3.12/site-packages/tensorflow/python/eager/polymorphic_function/polymorphic_function.py:833\u001b[39m, in \u001b[36mFunction.__call__\u001b[39m\u001b[34m(self, *args, **kwds)\u001b[39m\n\u001b[32m    830\u001b[39m compiler = \u001b[33m\"\u001b[39m\u001b[33mxla\u001b[39m\u001b[33m\"\u001b[39m \u001b[38;5;28;01mif\u001b[39;00m \u001b[38;5;28mself\u001b[39m._jit_compile \u001b[38;5;28;01melse\u001b[39;00m \u001b[33m\"\u001b[39m\u001b[33mnonXla\u001b[39m\u001b[33m\"\u001b[39m\n\u001b[32m    832\u001b[39m \u001b[38;5;28;01mwith\u001b[39;00m OptionalXlaContext(\u001b[38;5;28mself\u001b[39m._jit_compile):\n\u001b[32m--> \u001b[39m\u001b[32m833\u001b[39m   result = \u001b[38;5;28mself\u001b[39m._call(*args, **kwds)\n\u001b[32m    835\u001b[39m new_tracing_count = \u001b[38;5;28mself\u001b[39m.experimental_get_tracing_count()\n\u001b[32m    836\u001b[39m without_tracing = (tracing_count == new_tracing_count)\n",
      "\u001b[36mFile \u001b[39m\u001b[32m~/opt/anaconda3/envs/deepfakedetection/lib/python3.12/site-packages/tensorflow/python/eager/polymorphic_function/polymorphic_function.py:878\u001b[39m, in \u001b[36mFunction._call\u001b[39m\u001b[34m(self, *args, **kwds)\u001b[39m\n\u001b[32m    875\u001b[39m \u001b[38;5;28mself\u001b[39m._lock.release()\n\u001b[32m    876\u001b[39m \u001b[38;5;66;03m# In this case we have not created variables on the first call. So we can\u001b[39;00m\n\u001b[32m    877\u001b[39m \u001b[38;5;66;03m# run the first trace but we should fail if variables are created.\u001b[39;00m\n\u001b[32m--> \u001b[39m\u001b[32m878\u001b[39m results = tracing_compilation.call_function(\n\u001b[32m    879\u001b[39m     args, kwds, \u001b[38;5;28mself\u001b[39m._variable_creation_config\n\u001b[32m    880\u001b[39m )\n\u001b[32m    881\u001b[39m \u001b[38;5;28;01mif\u001b[39;00m \u001b[38;5;28mself\u001b[39m._created_variables:\n\u001b[32m    882\u001b[39m   \u001b[38;5;28;01mraise\u001b[39;00m \u001b[38;5;167;01mValueError\u001b[39;00m(\u001b[33m\"\u001b[39m\u001b[33mCreating variables on a non-first call to a function\u001b[39m\u001b[33m\"\u001b[39m\n\u001b[32m    883\u001b[39m                    \u001b[33m\"\u001b[39m\u001b[33m decorated with tf.function.\u001b[39m\u001b[33m\"\u001b[39m)\n",
      "\u001b[36mFile \u001b[39m\u001b[32m~/opt/anaconda3/envs/deepfakedetection/lib/python3.12/site-packages/tensorflow/python/eager/polymorphic_function/tracing_compilation.py:139\u001b[39m, in \u001b[36mcall_function\u001b[39m\u001b[34m(args, kwargs, tracing_options)\u001b[39m\n\u001b[32m    137\u001b[39m bound_args = function.function_type.bind(*args, **kwargs)\n\u001b[32m    138\u001b[39m flat_inputs = function.function_type.unpack_inputs(bound_args)\n\u001b[32m--> \u001b[39m\u001b[32m139\u001b[39m \u001b[38;5;28;01mreturn\u001b[39;00m function._call_flat(  \u001b[38;5;66;03m# pylint: disable=protected-access\u001b[39;00m\n\u001b[32m    140\u001b[39m     flat_inputs, captured_inputs=function.captured_inputs\n\u001b[32m    141\u001b[39m )\n",
      "\u001b[36mFile \u001b[39m\u001b[32m~/opt/anaconda3/envs/deepfakedetection/lib/python3.12/site-packages/tensorflow/python/eager/polymorphic_function/concrete_function.py:1322\u001b[39m, in \u001b[36mConcreteFunction._call_flat\u001b[39m\u001b[34m(self, tensor_inputs, captured_inputs)\u001b[39m\n\u001b[32m   1318\u001b[39m possible_gradient_type = gradients_util.PossibleTapeGradientTypes(args)\n\u001b[32m   1319\u001b[39m \u001b[38;5;28;01mif\u001b[39;00m (possible_gradient_type == gradients_util.POSSIBLE_GRADIENT_TYPES_NONE\n\u001b[32m   1320\u001b[39m     \u001b[38;5;129;01mand\u001b[39;00m executing_eagerly):\n\u001b[32m   1321\u001b[39m   \u001b[38;5;66;03m# No tape is watching; skip to running the function.\u001b[39;00m\n\u001b[32m-> \u001b[39m\u001b[32m1322\u001b[39m   \u001b[38;5;28;01mreturn\u001b[39;00m \u001b[38;5;28mself\u001b[39m._inference_function.call_preflattened(args)\n\u001b[32m   1323\u001b[39m forward_backward = \u001b[38;5;28mself\u001b[39m._select_forward_and_backward_functions(\n\u001b[32m   1324\u001b[39m     args,\n\u001b[32m   1325\u001b[39m     possible_gradient_type,\n\u001b[32m   1326\u001b[39m     executing_eagerly)\n\u001b[32m   1327\u001b[39m forward_function, args_with_tangents = forward_backward.forward()\n",
      "\u001b[36mFile \u001b[39m\u001b[32m~/opt/anaconda3/envs/deepfakedetection/lib/python3.12/site-packages/tensorflow/python/eager/polymorphic_function/atomic_function.py:216\u001b[39m, in \u001b[36mAtomicFunction.call_preflattened\u001b[39m\u001b[34m(self, args)\u001b[39m\n\u001b[32m    214\u001b[39m \u001b[38;5;28;01mdef\u001b[39;00m\u001b[38;5;250m \u001b[39m\u001b[34mcall_preflattened\u001b[39m(\u001b[38;5;28mself\u001b[39m, args: Sequence[core.Tensor]) -> Any:\n\u001b[32m    215\u001b[39m \u001b[38;5;250m  \u001b[39m\u001b[33;03m\"\"\"Calls with flattened tensor inputs and returns the structured output.\"\"\"\u001b[39;00m\n\u001b[32m--> \u001b[39m\u001b[32m216\u001b[39m   flat_outputs = \u001b[38;5;28mself\u001b[39m.call_flat(*args)\n\u001b[32m    217\u001b[39m   \u001b[38;5;28;01mreturn\u001b[39;00m \u001b[38;5;28mself\u001b[39m.function_type.pack_output(flat_outputs)\n",
      "\u001b[36mFile \u001b[39m\u001b[32m~/opt/anaconda3/envs/deepfakedetection/lib/python3.12/site-packages/tensorflow/python/eager/polymorphic_function/atomic_function.py:251\u001b[39m, in \u001b[36mAtomicFunction.call_flat\u001b[39m\u001b[34m(self, *args)\u001b[39m\n\u001b[32m    249\u001b[39m \u001b[38;5;28;01mwith\u001b[39;00m record.stop_recording():\n\u001b[32m    250\u001b[39m   \u001b[38;5;28;01mif\u001b[39;00m \u001b[38;5;28mself\u001b[39m._bound_context.executing_eagerly():\n\u001b[32m--> \u001b[39m\u001b[32m251\u001b[39m     outputs = \u001b[38;5;28mself\u001b[39m._bound_context.call_function(\n\u001b[32m    252\u001b[39m         \u001b[38;5;28mself\u001b[39m.name,\n\u001b[32m    253\u001b[39m         \u001b[38;5;28mlist\u001b[39m(args),\n\u001b[32m    254\u001b[39m         \u001b[38;5;28mlen\u001b[39m(\u001b[38;5;28mself\u001b[39m.function_type.flat_outputs),\n\u001b[32m    255\u001b[39m     )\n\u001b[32m    256\u001b[39m   \u001b[38;5;28;01melse\u001b[39;00m:\n\u001b[32m    257\u001b[39m     outputs = make_call_op_in_graph(\n\u001b[32m    258\u001b[39m         \u001b[38;5;28mself\u001b[39m,\n\u001b[32m    259\u001b[39m         \u001b[38;5;28mlist\u001b[39m(args),\n\u001b[32m    260\u001b[39m         \u001b[38;5;28mself\u001b[39m._bound_context.function_call_options.as_attrs(),\n\u001b[32m    261\u001b[39m     )\n",
      "\u001b[36mFile \u001b[39m\u001b[32m~/opt/anaconda3/envs/deepfakedetection/lib/python3.12/site-packages/tensorflow/python/eager/context.py:1552\u001b[39m, in \u001b[36mContext.call_function\u001b[39m\u001b[34m(self, name, tensor_inputs, num_outputs)\u001b[39m\n\u001b[32m   1550\u001b[39m cancellation_context = cancellation.context()\n\u001b[32m   1551\u001b[39m \u001b[38;5;28;01mif\u001b[39;00m cancellation_context \u001b[38;5;129;01mis\u001b[39;00m \u001b[38;5;28;01mNone\u001b[39;00m:\n\u001b[32m-> \u001b[39m\u001b[32m1552\u001b[39m   outputs = execute.execute(\n\u001b[32m   1553\u001b[39m       name.decode(\u001b[33m\"\u001b[39m\u001b[33mutf-8\u001b[39m\u001b[33m\"\u001b[39m),\n\u001b[32m   1554\u001b[39m       num_outputs=num_outputs,\n\u001b[32m   1555\u001b[39m       inputs=tensor_inputs,\n\u001b[32m   1556\u001b[39m       attrs=attrs,\n\u001b[32m   1557\u001b[39m       ctx=\u001b[38;5;28mself\u001b[39m,\n\u001b[32m   1558\u001b[39m   )\n\u001b[32m   1559\u001b[39m \u001b[38;5;28;01melse\u001b[39;00m:\n\u001b[32m   1560\u001b[39m   outputs = execute.execute_with_cancellation(\n\u001b[32m   1561\u001b[39m       name.decode(\u001b[33m\"\u001b[39m\u001b[33mutf-8\u001b[39m\u001b[33m\"\u001b[39m),\n\u001b[32m   1562\u001b[39m       num_outputs=num_outputs,\n\u001b[32m   (...)\u001b[39m\u001b[32m   1566\u001b[39m       cancellation_manager=cancellation_context,\n\u001b[32m   1567\u001b[39m   )\n",
      "\u001b[36mFile \u001b[39m\u001b[32m~/opt/anaconda3/envs/deepfakedetection/lib/python3.12/site-packages/tensorflow/python/eager/execute.py:53\u001b[39m, in \u001b[36mquick_execute\u001b[39m\u001b[34m(op_name, num_outputs, inputs, attrs, ctx, name)\u001b[39m\n\u001b[32m     51\u001b[39m \u001b[38;5;28;01mtry\u001b[39;00m:\n\u001b[32m     52\u001b[39m   ctx.ensure_initialized()\n\u001b[32m---> \u001b[39m\u001b[32m53\u001b[39m   tensors = pywrap_tfe.TFE_Py_Execute(ctx._handle, device_name, op_name,\n\u001b[32m     54\u001b[39m                                       inputs, attrs, num_outputs)\n\u001b[32m     55\u001b[39m \u001b[38;5;28;01mexcept\u001b[39;00m core._NotOkStatusException \u001b[38;5;28;01mas\u001b[39;00m e:\n\u001b[32m     56\u001b[39m   \u001b[38;5;28;01mif\u001b[39;00m name \u001b[38;5;129;01mis\u001b[39;00m \u001b[38;5;129;01mnot\u001b[39;00m \u001b[38;5;28;01mNone\u001b[39;00m:\n",
      "\u001b[31mKeyboardInterrupt\u001b[39m: "
     ]
    }
   ],
   "source": [
    "model, base_model = build_xception_model()\n",
    "finetune_trained_model, finetune_histories = train_model_finetune(train_gen, val_gen, model, base_model, fine_tune=True, initial_epochs=5, fine_tune_epochs=10)"
   ]
  },
  {
   "cell_type": "code",
   "execution_count": 24,
   "id": "a63d0425-6a49-4cce-a048-db973b5b06d0",
   "metadata": {
    "tags": []
   },
   "outputs": [
    {
     "ename": "NameError",
     "evalue": "name 'finetune_trained_model' is not defined",
     "output_type": "error",
     "traceback": [
      "\u001b[31m---------------------------------------------------------------------------\u001b[39m",
      "\u001b[31mNameError\u001b[39m                                 Traceback (most recent call last)",
      "\u001b[36mCell\u001b[39m\u001b[36m \u001b[39m\u001b[32mIn[24]\u001b[39m\u001b[32m, line 2\u001b[39m\n\u001b[32m      1\u001b[39m finetune_model_dir = os.path.join(models_dir, \u001b[33m'\u001b[39m\u001b[33mxception_finetune_deepfake_model.h5\u001b[39m\u001b[33m'\u001b[39m)\n\u001b[32m----> \u001b[39m\u001b[32m2\u001b[39m finetune_trained_model.save(finetune_model_dir)\n",
      "\u001b[31mNameError\u001b[39m: name 'finetune_trained_model' is not defined"
     ]
    }
   ],
   "source": [
    "finetune_model_dir = os.path.join(models_dir, 'xception_finetune_deepfake_model.h5')\n",
    "finetune_trained_model.save(finetune_model_dir)"
   ]
  },
  {
   "cell_type": "code",
   "execution_count": null,
   "id": "d8f67d3b-1488-4a39-9b33-866f34c671aa",
   "metadata": {},
   "outputs": [],
   "source": [
    "finetune_history_df = pd.DataFrame(finetune_histories.history)\n",
    "history_df.to_csv('results/x/finetune_training_history.csv', index=False)"
   ]
  },
  {
   "cell_type": "code",
   "execution_count": null,
   "id": "b063d226-ada0-428e-b86b-e3a2d1ffaa10",
   "metadata": {},
   "outputs": [],
   "source": [
    "y_pred = finetune_trained_model.predict(test_gen)\n",
    "y_pred_df = pd.DataFrame(y_pred)\n",
    "y_pred_df.to_csv('results/x/y_pred.csv', index=False)"
   ]
  },
  {
   "cell_type": "code",
   "execution_count": 8,
   "id": "b385db0d-d8d9-43f8-b9ae-a8efd0558363",
   "metadata": {
    "execution": {
     "iopub.execute_input": "2025-05-02T09:55:14.867715Z",
     "iopub.status.busy": "2025-05-02T09:55:14.866191Z",
     "iopub.status.idle": "2025-05-02T09:55:27.441843Z",
     "shell.execute_reply": "2025-05-02T09:55:27.440751Z",
     "shell.execute_reply.started": "2025-05-02T09:55:14.867663Z"
    },
    "tags": []
   },
   "outputs": [
    {
     "name": "stderr",
     "output_type": "stream",
     "text": [
      "2025-05-02 09:55:15.198383: E tensorflow/compiler/xla/stream_executor/cuda/cuda_driver.cc:266] failed call to cuInit: CUDA_ERROR_NO_DEVICE: no CUDA-capable device is detected\n"
     ]
    }
   ],
   "source": [
    "#!gt4.1\n",
    "finetune_trained_model = tf.keras.models.load_model(finetune_model_dir)\n",
    "test_loss, test_precision, test_recall, test_auc = finetune_trained_model.evaluate(test_gen)\n",
    "\n",
    "print(f\"\\nTest AUC: {test_auc:.4f}, loss: {test_loss:.4f}, pression: {test_precision:.4f}, recall: {test_recall:4f}\")"
   ]
  },
  {
   "cell_type": "markdown",
   "id": "f4c2a312-07c1-4c55-a1d5-758cf69418b5",
   "metadata": {},
   "source": [
    "#### Analyze results for finetuned model"
   ]
  },
  {
   "cell_type": "code",
   "execution_count": 13,
   "id": "51f11c5e-1173-4252-8dad-038295808c75",
   "metadata": {},
   "outputs": [],
   "source": [
    "y_pred = pd.read_csv('results/x/y_pred.csv')\n",
    "y_true = test_gen.labels"
   ]
  },
  {
   "cell_type": "code",
   "execution_count": 14,
   "id": "939c425f-5ef5-4b7b-bc13-46cf5b881c25",
   "metadata": {
    "tags": []
   },
   "outputs": [],
   "source": [
    "finetune_loaded_history_df = pd.read_csv('results/x/finetune_training_history.csv')\n",
    "finetune_loaded_history = {'history': finetune_loaded_history_df.to_dict()}"
   ]
  },
  {
   "cell_type": "code",
   "execution_count": 32,
   "id": "4f8b6317-faed-48a4-8a95-5b7da25f2a76",
   "metadata": {
    "tags": []
   },
   "outputs": [
    {
     "ename": "NameError",
     "evalue": "name 'finetune_loaded_history_df' is not defined",
     "output_type": "error",
     "traceback": [
      "\u001b[31m---------------------------------------------------------------------------\u001b[39m",
      "\u001b[31mNameError\u001b[39m                                 Traceback (most recent call last)",
      "\u001b[36mCell\u001b[39m\u001b[36m \u001b[39m\u001b[32mIn[32]\u001b[39m\u001b[32m, line 1\u001b[39m\n\u001b[32m----> \u001b[39m\u001b[32m1\u001b[39m plot_history(finetune_loaded_history_df)\n",
      "\u001b[31mNameError\u001b[39m: name 'finetune_loaded_history_df' is not defined"
     ]
    }
   ],
   "source": [
    "plot_history(finetune_loaded_history_df)"
   ]
  },
  {
   "cell_type": "code",
   "execution_count": 16,
   "id": "164ebbf3-4bc1-475b-84b4-47b601256023",
   "metadata": {
    "tags": []
   },
   "outputs": [
    {
     "data": {
      "image/png": "[encoded data removed]",
      "text/plain": [
       "<Figure size 800x600 with 2 Axes>"
      ]
     },
     "metadata": {},
     "output_type": "display_data"
    }
   ],
   "source": [
    "confusion_matrix_plot(y_pred, y_true, 0.5, 0.5)"
   ]
  },
  {
   "cell_type": "code",
   "execution_count": 17,
   "id": "c8147b79-cd4a-4506-99bb-e21b8fd94dff",
   "metadata": {},
   "outputs": [
    {
     "data": {
      "image/png": "[encoded data removed]",
      "text/plain": [
       "<Figure size 800x600 with 1 Axes>"
      ]
     },
     "metadata": {},
     "output_type": "display_data"
    }
   ],
   "source": [
    "precision_recall_plot(y_true, y_pred)"
   ]
  },
  {
   "cell_type": "code",
   "execution_count": 18,
   "id": "87ef6b7c-e0a7-4766-b907-d2d17fec8131",
   "metadata": {},
   "outputs": [
    {
     "data": {
      "image/png": "[encoded data removed]",
      "text/plain": [
       "<Figure size 800x600 with 1 Axes>"
      ]
     },
     "metadata": {},
     "output_type": "display_data"
    }
   ],
   "source": [
    "roc_plot(y_true, y_pred)"
   ]
  },
  {
   "cell_type": "markdown",
   "id": "6ec77d69-29c4-4de2-b66e-c88c336aae7b",
   "metadata": {},
   "source": [
    "### 3. Pure model fitting"
   ]
  },
  {
   "cell_type": "code",
   "execution_count": 34,
   "id": "ff77c392-aace-4ff3-ba6b-a34644c04f84",
   "metadata": {},
   "outputs": [],
   "source": [
    "def build_pure_xception(input_shape=(299, 299, 3), num_classes=1):\n",
    "    base_model = Xception(\n",
    "        weights='imagenet',\n",
    "        include_top=False,\n",
    "        input_shape=input_shape\n",
    "    )\n",
    "    base_model.trainable = False\n",
    "\n",
    "    model = Sequential([\n",
    "        base_model,\n",
    "        GlobalAveragePooling2D(),\n",
    "        Dense(num_classes, activation='sigmoid' if num_classes == 1 else 'softmax')\n",
    "    ])\n",
    "\n",
    "    model.compile(\n",
    "        optimizer='adam',\n",
    "        loss='binary_crossentropy',\n",
    "        metrics=[\n",
    "            tf.keras.metrics.Precision(name=\"precision\"),\n",
    "            tf.keras.metrics.Recall(name=\"recall\"),\n",
    "            tf.keras.metrics.AUC(name=\"auc\"),\n",
    "        ]\n",
    "    )\n",
    "    return model, base_model"
   ]
  },
  {
   "cell_type": "code",
   "execution_count": 15,
   "id": "fe7cb72b-4f2c-4ab7-8390-00687319f7bc",
   "metadata": {},
   "outputs": [
    {
     "name": "stdout",
     "output_type": "stream",
     "text": [
      "Found 9074 images belonging to 2 classes.\n",
      "Found 1944 images belonging to 2 classes.\n",
      "Found 1946 images belonging to 2 classes.\n",
      "\n",
      "Class indices: {'fake': 0, 'real': 1}\n",
      "Train samples: 9074\n",
      "Val samples: 1944\n",
      "Test samples: 1946\n"
     ]
    }
   ],
   "source": [
    "train_gen, val_gen, test_gen = init_data()"
   ]
  },
  {
   "cell_type": "code",
   "execution_count": 37,
   "id": "93ec2763-4253-4be8-bf14-da7818785959",
   "metadata": {
    "scrolled": true
   },
   "outputs": [
    {
     "name": "stdout",
     "output_type": "stream",
     "text": [
      "Epoch 1/5\n",
      "\u001b[1m  1/284\u001b[0m \u001b[37m━━━━━━━━━━━━━━━━━━━━\u001b[0m \u001b[1m8:35\u001b[0m 2s/step - auc: 0.6354 - loss: 0.5754 - precision: 0.0000e+00 - recall: 0.0000e+00"
     ]
    },
    {
     "ename": "KeyboardInterrupt",
     "evalue": "",
     "output_type": "error",
     "traceback": [
      "\u001b[31m---------------------------------------------------------------------------\u001b[39m",
      "\u001b[31mKeyboardInterrupt\u001b[39m                         Traceback (most recent call last)",
      "\u001b[36mCell\u001b[39m\u001b[36m \u001b[39m\u001b[32mIn[37]\u001b[39m\u001b[32m, line 2\u001b[39m\n\u001b[32m      1\u001b[39m model, base_model = build_pure_xception()\n\u001b[32m----> \u001b[39m\u001b[32m2\u001b[39m pure_finetuned_model, pure_finetuned_model_histories = train_model_finetune(train_gen, val_gen, model, base_model, fine_tune=\u001b[38;5;28;01mTrue\u001b[39;00m, initial_epochs=\u001b[32m5\u001b[39m, fine_tune_epochs=\u001b[32m10\u001b[39m)\n",
      "\u001b[36mCell\u001b[39m\u001b[36m \u001b[39m\u001b[32mIn[30]\u001b[39m\u001b[32m, line 13\u001b[39m, in \u001b[36mtrain_model_finetune\u001b[39m\u001b[34m(train_generator, val_generator, model, base_model, fine_tune, initial_epochs, fine_tune_epochs)\u001b[39m\n\u001b[32m      1\u001b[39m \u001b[38;5;28;01mdef\u001b[39;00m\u001b[38;5;250m \u001b[39m\u001b[34mtrain_model_finetune\u001b[39m(train_generator, val_generator, model, base_model, fine_tune=\u001b[38;5;28;01mFalse\u001b[39;00m, initial_epochs=\u001b[32m10\u001b[39m, fine_tune_epochs=\u001b[32m10\u001b[39m):\n\u001b[32m      2\u001b[39m \u001b[38;5;250m    \u001b[39m\u001b[33;03m\"\"\"\u001b[39;00m\n\u001b[32m      3\u001b[39m \u001b[33;03m    Двухэтапное обучение с возможностью дообучения\u001b[39;00m\n\u001b[32m      4\u001b[39m \n\u001b[32m   (...)\u001b[39m\u001b[32m     10\u001b[39m \u001b[33;03m        fine_tune_epochs: количество эпох дообучения\u001b[39;00m\n\u001b[32m     11\u001b[39m \u001b[33;03m    \"\"\"\u001b[39;00m\n\u001b[32m---> \u001b[39m\u001b[32m13\u001b[39m     history = model.fit(\n\u001b[32m     14\u001b[39m         train_generator,\n\u001b[32m     15\u001b[39m         epochs=initial_epochs,\n\u001b[32m     16\u001b[39m         validation_data=val_generator,\n\u001b[32m     17\u001b[39m         callbacks=[\n\u001b[32m     18\u001b[39m             ModelCheckpoint(os.path.join(models_dir, \u001b[33m\"\u001b[39m\u001b[33minitial_model.h5\u001b[39m\u001b[33m\"\u001b[39m), monitor=\u001b[33m\"\u001b[39m\u001b[33mval_auc\u001b[39m\u001b[33m\"\u001b[39m, save_best_only=\u001b[38;5;28;01mTrue\u001b[39;00m, mode=\u001b[33m\"\u001b[39m\u001b[33mmax\u001b[39m\u001b[33m\"\u001b[39m),\n\u001b[32m     19\u001b[39m             EarlyStopping(monitor=\u001b[33m\"\u001b[39m\u001b[33mval_loss\u001b[39m\u001b[33m\"\u001b[39m, patience=\u001b[32m3\u001b[39m, restore_best_weights=\u001b[38;5;28;01mTrue\u001b[39;00m)\n\u001b[32m     20\u001b[39m         ]\n\u001b[32m     21\u001b[39m     )\n\u001b[32m     23\u001b[39m     \u001b[38;5;28;01mif\u001b[39;00m \u001b[38;5;129;01mnot\u001b[39;00m fine_tune:\n\u001b[32m     24\u001b[39m         \u001b[38;5;28;01mreturn\u001b[39;00m model, history\n",
      "\u001b[36mFile \u001b[39m\u001b[32m~/opt/anaconda3/envs/deepfakedetection/lib/python3.12/site-packages/keras/src/utils/traceback_utils.py:117\u001b[39m, in \u001b[36mfilter_traceback.<locals>.error_handler\u001b[39m\u001b[34m(*args, **kwargs)\u001b[39m\n\u001b[32m    115\u001b[39m filtered_tb = \u001b[38;5;28;01mNone\u001b[39;00m\n\u001b[32m    116\u001b[39m \u001b[38;5;28;01mtry\u001b[39;00m:\n\u001b[32m--> \u001b[39m\u001b[32m117\u001b[39m     \u001b[38;5;28;01mreturn\u001b[39;00m fn(*args, **kwargs)\n\u001b[32m    118\u001b[39m \u001b[38;5;28;01mexcept\u001b[39;00m \u001b[38;5;167;01mException\u001b[39;00m \u001b[38;5;28;01mas\u001b[39;00m e:\n\u001b[32m    119\u001b[39m     filtered_tb = _process_traceback_frames(e.__traceback__)\n",
      "\u001b[36mFile \u001b[39m\u001b[32m~/opt/anaconda3/envs/deepfakedetection/lib/python3.12/site-packages/keras/src/backend/tensorflow/trainer.py:371\u001b[39m, in \u001b[36mTensorFlowTrainer.fit\u001b[39m\u001b[34m(self, x, y, batch_size, epochs, verbose, callbacks, validation_split, validation_data, shuffle, class_weight, sample_weight, initial_epoch, steps_per_epoch, validation_steps, validation_batch_size, validation_freq)\u001b[39m\n\u001b[32m    369\u001b[39m \u001b[38;5;28;01mfor\u001b[39;00m step, iterator \u001b[38;5;129;01min\u001b[39;00m epoch_iterator:\n\u001b[32m    370\u001b[39m     callbacks.on_train_batch_begin(step)\n\u001b[32m--> \u001b[39m\u001b[32m371\u001b[39m     logs = \u001b[38;5;28mself\u001b[39m.train_function(iterator)\n\u001b[32m    372\u001b[39m     callbacks.on_train_batch_end(step, logs)\n\u001b[32m    373\u001b[39m     \u001b[38;5;28;01mif\u001b[39;00m \u001b[38;5;28mself\u001b[39m.stop_training:\n",
      "\u001b[36mFile \u001b[39m\u001b[32m~/opt/anaconda3/envs/deepfakedetection/lib/python3.12/site-packages/keras/src/backend/tensorflow/trainer.py:219\u001b[39m, in \u001b[36mTensorFlowTrainer._make_function.<locals>.function\u001b[39m\u001b[34m(iterator)\u001b[39m\n\u001b[32m    215\u001b[39m \u001b[38;5;28;01mdef\u001b[39;00m\u001b[38;5;250m \u001b[39m\u001b[34mfunction\u001b[39m(iterator):\n\u001b[32m    216\u001b[39m     \u001b[38;5;28;01mif\u001b[39;00m \u001b[38;5;28misinstance\u001b[39m(\n\u001b[32m    217\u001b[39m         iterator, (tf.data.Iterator, tf.distribute.DistributedIterator)\n\u001b[32m    218\u001b[39m     ):\n\u001b[32m--> \u001b[39m\u001b[32m219\u001b[39m         opt_outputs = multi_step_on_iterator(iterator)\n\u001b[32m    220\u001b[39m         \u001b[38;5;28;01mif\u001b[39;00m \u001b[38;5;129;01mnot\u001b[39;00m opt_outputs.has_value():\n\u001b[32m    221\u001b[39m             \u001b[38;5;28;01mraise\u001b[39;00m \u001b[38;5;167;01mStopIteration\u001b[39;00m\n",
      "\u001b[36mFile \u001b[39m\u001b[32m~/opt/anaconda3/envs/deepfakedetection/lib/python3.12/site-packages/tensorflow/python/util/traceback_utils.py:150\u001b[39m, in \u001b[36mfilter_traceback.<locals>.error_handler\u001b[39m\u001b[34m(*args, **kwargs)\u001b[39m\n\u001b[32m    148\u001b[39m filtered_tb = \u001b[38;5;28;01mNone\u001b[39;00m\n\u001b[32m    149\u001b[39m \u001b[38;5;28;01mtry\u001b[39;00m:\n\u001b[32m--> \u001b[39m\u001b[32m150\u001b[39m   \u001b[38;5;28;01mreturn\u001b[39;00m fn(*args, **kwargs)\n\u001b[32m    151\u001b[39m \u001b[38;5;28;01mexcept\u001b[39;00m \u001b[38;5;167;01mException\u001b[39;00m \u001b[38;5;28;01mas\u001b[39;00m e:\n\u001b[32m    152\u001b[39m   filtered_tb = _process_traceback_frames(e.__traceback__)\n",
      "\u001b[36mFile \u001b[39m\u001b[32m~/opt/anaconda3/envs/deepfakedetection/lib/python3.12/site-packages/tensorflow/python/eager/polymorphic_function/polymorphic_function.py:833\u001b[39m, in \u001b[36mFunction.__call__\u001b[39m\u001b[34m(self, *args, **kwds)\u001b[39m\n\u001b[32m    830\u001b[39m compiler = \u001b[33m\"\u001b[39m\u001b[33mxla\u001b[39m\u001b[33m\"\u001b[39m \u001b[38;5;28;01mif\u001b[39;00m \u001b[38;5;28mself\u001b[39m._jit_compile \u001b[38;5;28;01melse\u001b[39;00m \u001b[33m\"\u001b[39m\u001b[33mnonXla\u001b[39m\u001b[33m\"\u001b[39m\n\u001b[32m    832\u001b[39m \u001b[38;5;28;01mwith\u001b[39;00m OptionalXlaContext(\u001b[38;5;28mself\u001b[39m._jit_compile):\n\u001b[32m--> \u001b[39m\u001b[32m833\u001b[39m   result = \u001b[38;5;28mself\u001b[39m._call(*args, **kwds)\n\u001b[32m    835\u001b[39m new_tracing_count = \u001b[38;5;28mself\u001b[39m.experimental_get_tracing_count()\n\u001b[32m    836\u001b[39m without_tracing = (tracing_count == new_tracing_count)\n",
      "\u001b[36mFile \u001b[39m\u001b[32m~/opt/anaconda3/envs/deepfakedetection/lib/python3.12/site-packages/tensorflow/python/eager/polymorphic_function/polymorphic_function.py:878\u001b[39m, in \u001b[36mFunction._call\u001b[39m\u001b[34m(self, *args, **kwds)\u001b[39m\n\u001b[32m    875\u001b[39m \u001b[38;5;28mself\u001b[39m._lock.release()\n\u001b[32m    876\u001b[39m \u001b[38;5;66;03m# In this case we have not created variables on the first call. So we can\u001b[39;00m\n\u001b[32m    877\u001b[39m \u001b[38;5;66;03m# run the first trace but we should fail if variables are created.\u001b[39;00m\n\u001b[32m--> \u001b[39m\u001b[32m878\u001b[39m results = tracing_compilation.call_function(\n\u001b[32m    879\u001b[39m     args, kwds, \u001b[38;5;28mself\u001b[39m._variable_creation_config\n\u001b[32m    880\u001b[39m )\n\u001b[32m    881\u001b[39m \u001b[38;5;28;01mif\u001b[39;00m \u001b[38;5;28mself\u001b[39m._created_variables:\n\u001b[32m    882\u001b[39m   \u001b[38;5;28;01mraise\u001b[39;00m \u001b[38;5;167;01mValueError\u001b[39;00m(\u001b[33m\"\u001b[39m\u001b[33mCreating variables on a non-first call to a function\u001b[39m\u001b[33m\"\u001b[39m\n\u001b[32m    883\u001b[39m                    \u001b[33m\"\u001b[39m\u001b[33m decorated with tf.function.\u001b[39m\u001b[33m\"\u001b[39m)\n",
      "\u001b[36mFile \u001b[39m\u001b[32m~/opt/anaconda3/envs/deepfakedetection/lib/python3.12/site-packages/tensorflow/python/eager/polymorphic_function/tracing_compilation.py:139\u001b[39m, in \u001b[36mcall_function\u001b[39m\u001b[34m(args, kwargs, tracing_options)\u001b[39m\n\u001b[32m    137\u001b[39m bound_args = function.function_type.bind(*args, **kwargs)\n\u001b[32m    138\u001b[39m flat_inputs = function.function_type.unpack_inputs(bound_args)\n\u001b[32m--> \u001b[39m\u001b[32m139\u001b[39m \u001b[38;5;28;01mreturn\u001b[39;00m function._call_flat(  \u001b[38;5;66;03m# pylint: disable=protected-access\u001b[39;00m\n\u001b[32m    140\u001b[39m     flat_inputs, captured_inputs=function.captured_inputs\n\u001b[32m    141\u001b[39m )\n",
      "\u001b[36mFile \u001b[39m\u001b[32m~/opt/anaconda3/envs/deepfakedetection/lib/python3.12/site-packages/tensorflow/python/eager/polymorphic_function/concrete_function.py:1322\u001b[39m, in \u001b[36mConcreteFunction._call_flat\u001b[39m\u001b[34m(self, tensor_inputs, captured_inputs)\u001b[39m\n\u001b[32m   1318\u001b[39m possible_gradient_type = gradients_util.PossibleTapeGradientTypes(args)\n\u001b[32m   1319\u001b[39m \u001b[38;5;28;01mif\u001b[39;00m (possible_gradient_type == gradients_util.POSSIBLE_GRADIENT_TYPES_NONE\n\u001b[32m   1320\u001b[39m     \u001b[38;5;129;01mand\u001b[39;00m executing_eagerly):\n\u001b[32m   1321\u001b[39m   \u001b[38;5;66;03m# No tape is watching; skip to running the function.\u001b[39;00m\n\u001b[32m-> \u001b[39m\u001b[32m1322\u001b[39m   \u001b[38;5;28;01mreturn\u001b[39;00m \u001b[38;5;28mself\u001b[39m._inference_function.call_preflattened(args)\n\u001b[32m   1323\u001b[39m forward_backward = \u001b[38;5;28mself\u001b[39m._select_forward_and_backward_functions(\n\u001b[32m   1324\u001b[39m     args,\n\u001b[32m   1325\u001b[39m     possible_gradient_type,\n\u001b[32m   1326\u001b[39m     executing_eagerly)\n\u001b[32m   1327\u001b[39m forward_function, args_with_tangents = forward_backward.forward()\n",
      "\u001b[36mFile \u001b[39m\u001b[32m~/opt/anaconda3/envs/deepfakedetection/lib/python3.12/site-packages/tensorflow/python/eager/polymorphic_function/atomic_function.py:216\u001b[39m, in \u001b[36mAtomicFunction.call_preflattened\u001b[39m\u001b[34m(self, args)\u001b[39m\n\u001b[32m    214\u001b[39m \u001b[38;5;28;01mdef\u001b[39;00m\u001b[38;5;250m \u001b[39m\u001b[34mcall_preflattened\u001b[39m(\u001b[38;5;28mself\u001b[39m, args: Sequence[core.Tensor]) -> Any:\n\u001b[32m    215\u001b[39m \u001b[38;5;250m  \u001b[39m\u001b[33;03m\"\"\"Calls with flattened tensor inputs and returns the structured output.\"\"\"\u001b[39;00m\n\u001b[32m--> \u001b[39m\u001b[32m216\u001b[39m   flat_outputs = \u001b[38;5;28mself\u001b[39m.call_flat(*args)\n\u001b[32m    217\u001b[39m   \u001b[38;5;28;01mreturn\u001b[39;00m \u001b[38;5;28mself\u001b[39m.function_type.pack_output(flat_outputs)\n",
      "\u001b[36mFile \u001b[39m\u001b[32m~/opt/anaconda3/envs/deepfakedetection/lib/python3.12/site-packages/tensorflow/python/eager/polymorphic_function/atomic_function.py:251\u001b[39m, in \u001b[36mAtomicFunction.call_flat\u001b[39m\u001b[34m(self, *args)\u001b[39m\n\u001b[32m    249\u001b[39m \u001b[38;5;28;01mwith\u001b[39;00m record.stop_recording():\n\u001b[32m    250\u001b[39m   \u001b[38;5;28;01mif\u001b[39;00m \u001b[38;5;28mself\u001b[39m._bound_context.executing_eagerly():\n\u001b[32m--> \u001b[39m\u001b[32m251\u001b[39m     outputs = \u001b[38;5;28mself\u001b[39m._bound_context.call_function(\n\u001b[32m    252\u001b[39m         \u001b[38;5;28mself\u001b[39m.name,\n\u001b[32m    253\u001b[39m         \u001b[38;5;28mlist\u001b[39m(args),\n\u001b[32m    254\u001b[39m         \u001b[38;5;28mlen\u001b[39m(\u001b[38;5;28mself\u001b[39m.function_type.flat_outputs),\n\u001b[32m    255\u001b[39m     )\n\u001b[32m    256\u001b[39m   \u001b[38;5;28;01melse\u001b[39;00m:\n\u001b[32m    257\u001b[39m     outputs = make_call_op_in_graph(\n\u001b[32m    258\u001b[39m         \u001b[38;5;28mself\u001b[39m,\n\u001b[32m    259\u001b[39m         \u001b[38;5;28mlist\u001b[39m(args),\n\u001b[32m    260\u001b[39m         \u001b[38;5;28mself\u001b[39m._bound_context.function_call_options.as_attrs(),\n\u001b[32m    261\u001b[39m     )\n",
      "\u001b[36mFile \u001b[39m\u001b[32m~/opt/anaconda3/envs/deepfakedetection/lib/python3.12/site-packages/tensorflow/python/eager/context.py:1552\u001b[39m, in \u001b[36mContext.call_function\u001b[39m\u001b[34m(self, name, tensor_inputs, num_outputs)\u001b[39m\n\u001b[32m   1550\u001b[39m cancellation_context = cancellation.context()\n\u001b[32m   1551\u001b[39m \u001b[38;5;28;01mif\u001b[39;00m cancellation_context \u001b[38;5;129;01mis\u001b[39;00m \u001b[38;5;28;01mNone\u001b[39;00m:\n\u001b[32m-> \u001b[39m\u001b[32m1552\u001b[39m   outputs = execute.execute(\n\u001b[32m   1553\u001b[39m       name.decode(\u001b[33m\"\u001b[39m\u001b[33mutf-8\u001b[39m\u001b[33m\"\u001b[39m),\n\u001b[32m   1554\u001b[39m       num_outputs=num_outputs,\n\u001b[32m   1555\u001b[39m       inputs=tensor_inputs,\n\u001b[32m   1556\u001b[39m       attrs=attrs,\n\u001b[32m   1557\u001b[39m       ctx=\u001b[38;5;28mself\u001b[39m,\n\u001b[32m   1558\u001b[39m   )\n\u001b[32m   1559\u001b[39m \u001b[38;5;28;01melse\u001b[39;00m:\n\u001b[32m   1560\u001b[39m   outputs = execute.execute_with_cancellation(\n\u001b[32m   1561\u001b[39m       name.decode(\u001b[33m\"\u001b[39m\u001b[33mutf-8\u001b[39m\u001b[33m\"\u001b[39m),\n\u001b[32m   1562\u001b[39m       num_outputs=num_outputs,\n\u001b[32m   (...)\u001b[39m\u001b[32m   1566\u001b[39m       cancellation_manager=cancellation_context,\n\u001b[32m   1567\u001b[39m   )\n",
      "\u001b[36mFile \u001b[39m\u001b[32m~/opt/anaconda3/envs/deepfakedetection/lib/python3.12/site-packages/tensorflow/python/eager/execute.py:53\u001b[39m, in \u001b[36mquick_execute\u001b[39m\u001b[34m(op_name, num_outputs, inputs, attrs, ctx, name)\u001b[39m\n\u001b[32m     51\u001b[39m \u001b[38;5;28;01mtry\u001b[39;00m:\n\u001b[32m     52\u001b[39m   ctx.ensure_initialized()\n\u001b[32m---> \u001b[39m\u001b[32m53\u001b[39m   tensors = pywrap_tfe.TFE_Py_Execute(ctx._handle, device_name, op_name,\n\u001b[32m     54\u001b[39m                                       inputs, attrs, num_outputs)\n\u001b[32m     55\u001b[39m \u001b[38;5;28;01mexcept\u001b[39;00m core._NotOkStatusException \u001b[38;5;28;01mas\u001b[39;00m e:\n\u001b[32m     56\u001b[39m   \u001b[38;5;28;01mif\u001b[39;00m name \u001b[38;5;129;01mis\u001b[39;00m \u001b[38;5;129;01mnot\u001b[39;00m \u001b[38;5;28;01mNone\u001b[39;00m:\n",
      "\u001b[31mKeyboardInterrupt\u001b[39m: "
     ]
    }
   ],
   "source": [
    "model, base_model = build_pure_xception()\n",
    "pure_finetuned_model, pure_finetuned_model_histories = train_model_finetune(train_gen, val_gen, model, base_model, fine_tune=True, initial_epochs=5, fine_tune_epochs=10)"
   ]
  },
  {
   "cell_type": "code",
   "execution_count": null,
   "id": "e3a460e3-b0f2-4174-8dc4-db44fa225884",
   "metadata": {},
   "outputs": [],
   "source": [
    "pure_finetuned_model_history_df = pd.DataFrame(pure_finetuned_model_histories.history)\n",
    "pure_finetuned_model_history_df.to_csv('results/pure/pure_finetuned_history.csv', index=False)"
   ]
  },
  {
   "cell_type": "code",
   "execution_count": null,
   "id": "707522a8-bf66-432b-9675-2ebde710225b",
   "metadata": {},
   "outputs": [],
   "source": [
    "y_pred = finetune_trained_model.predict(test_gen)\n",
    "y_pred_df = pd.DataFrame(y_pred)\n",
    "y_pred_df.to_csv('results/pure/y_pred.csv', index=False)"
   ]
  },
  {
   "cell_type": "markdown",
   "id": "766d66cf-68ca-4f7b-8c2a-f9f1a5fc2a8e",
   "metadata": {},
   "source": [
    "#### Save results"
   ]
  },
  {
   "cell_type": "code",
   "execution_count": null,
   "id": "5681d5f5-6e1d-4f3c-8392-1e010d2a704b",
   "metadata": {},
   "outputs": [],
   "source": [
    "pure_finetune_model_dir = os.path.join(models_dir, 'xception_pure_finetuned_deepfake_model.h5')\n",
    "pure_finetuned_model.save(pure_finetune_model_dir)"
   ]
  },
  {
   "cell_type": "markdown",
   "id": "15398eb0-b98a-41fe-a5a7-9153268172ce",
   "metadata": {},
   "source": [
    "#### Analyze results for pure model"
   ]
  }
 ],
 "metadata": {
  "kernelspec": {
   "display_name": "Python 3 (ipykernel)",
   "language": "python",
   "name": "python3"
  },
  "language_info": {
   "codemirror_mode": {
    "name": "ipython",
    "version": 3
   },
   "file_extension": ".py",
   "mimetype": "text/x-python",
   "name": "python",
   "nbconvert_exporter": "python",
   "pygments_lexer": "ipython3",
   "version": "3.12.4"
  }
 },
 "nbformat": 4,
 "nbformat_minor": 5
}
